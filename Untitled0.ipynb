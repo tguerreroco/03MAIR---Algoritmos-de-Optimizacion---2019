{
  "nbformat": 4,
  "nbformat_minor": 0,
  "metadata": {
    "colab": {
      "name": "Untitled0.ipynb",
      "version": "0.3.2",
      "provenance": [],
      "collapsed_sections": [],
      "include_colab_link": true
    },
    "kernelspec": {
      "name": "python3",
      "display_name": "Python 3"
    }
  },
  "cells": [
    {
      "cell_type": "markdown",
      "metadata": {
        "id": "view-in-github",
        "colab_type": "text"
      },
      "source": [
        "<a href=\"https://colab.research.google.com/github/tguerreroco/03MAIR---Algoritmos-de-Optimizacion---2019/blob/master/Untitled0.ipynb\" target=\"_parent\"><img src=\"https://colab.research.google.com/assets/colab-badge.svg\" alt=\"Open In Colab\"/></a>"
      ]
    },
    {
      "metadata": {
        "id": "9D8tGnepKaDE",
        "colab_type": "code",
        "colab": {
          "base_uri": "https://localhost:8080/",
          "height": 127
        },
        "outputId": "c4c19c62-b6de-4668-be77-3f2e7f1a5e7a"
      },
      "cell_type": "code",
      "source": [
        "a=[1,2,6,7,12,13,15]\n",
        "b=[2,3,4,7,13]\n",
        "#Primer método \n",
        "for x in a:\n",
        "  if x in b:\n",
        "     print(x)\n",
        "#Segundo método con list comprenhension\n",
        "c=[x for x in a if x in b]\n",
        "print(c)\n",
        "#tercer método con conjuntos (copiado del curso)\n",
        "c=list(set(a).intersection(b))\n",
        "print(c)\n",
        "#cuarto método con conjuntos (copiado del curso)\n",
        "c=set(a)&set(b)\n",
        "print(c)"
      ],
      "execution_count": 26,
      "outputs": [
        {
          "output_type": "stream",
          "text": [
            "2\n",
            "7\n",
            "13\n",
            "[2, 7, 13]\n",
            "[2, 13, 7]\n",
            "{2, 13, 7}\n"
          ],
          "name": "stdout"
        }
      ]
    }
  ]
}
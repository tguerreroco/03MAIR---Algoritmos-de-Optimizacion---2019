{
  "nbformat": 4,
  "nbformat_minor": 0,
  "metadata": {
    "colab": {
      "name": "07MAIR_Actividad 1 - TGC.ipynb",
      "version": "0.3.2",
      "provenance": [],
      "collapsed_sections": [],
      "include_colab_link": true
    },
    "language_info": {
      "codemirror_mode": {
        "name": "ipython",
        "version": 3
      },
      "file_extension": ".py",
      "mimetype": "text/x-python",
      "name": "python",
      "nbconvert_exporter": "python",
      "pygments_lexer": "ipython3",
      "version": "3.6.5"
    },
    "kernelspec": {
      "name": "python3",
      "display_name": "Python 3"
    },
    "accelerator": "GPU"
  },
  "cells": [
    {
      "cell_type": "markdown",
      "metadata": {
        "id": "view-in-github",
        "colab_type": "text"
      },
      "source": [
        "<a href=\"https://colab.research.google.com/github/tguerreroco/03MAIR---Algoritmos-de-Optimizacion---2019/blob/master/07MAIR_Actividad_1_TGC.ipynb\" target=\"_parent\"><img src=\"https://colab.research.google.com/assets/colab-badge.svg\" alt=\"Open In Colab\"/></a>"
      ]
    },
    {
      "metadata": {
        "id": "Cj20VcgSq8Cm",
        "colab_type": "text"
      },
      "cell_type": "markdown",
      "source": [
        "# Actividad 1: Deep Vision\n",
        "\n",
        "En esta actividad, el alumno debe evaluar y comparar dos estrategias para la clasificación de imágenes en el dataset Caltech 101. El dataset ha sido preprocesado y guardado utilizando pickle (más información sobre el preprocesado se puede obtener en el notebook \"preprocesado_caltech101\" https://drive.google.com/open?id=1ioVl25t1p3mE2lTUFTwwOFi3fHFgUvtb).\n",
        "\n",
        "Las instrucciones de cómo obtener el dataset aparecen al inicio de este notebook.\n",
        "\n",
        "### Estrategia 1: Red pre-entrenada\n",
        "\n",
        "La primera estrategia a comparar debe incluir la utilización de una red preentrenada con el dataset ImageNet, pero en la que la capa densa (el clasificador) debe entrenarse para clasificar los objetos de Caltech 101. Deben compararse al menos dos tipos de arquitecturas (VGG16, VGG19, ResNet50, Xception, InceptionV3, InceptionResNetV2, MobileNetV2, DenseNet, RasNet) y se debe seleccionar la que mayor precisión nos dé (información sobre las arquitecturas disponibles en https://keras.io/applications/)\n",
        "\n",
        "### Estrategia 2: Entrenar desde cero\n",
        "\n",
        "La segunda estrategia a comparar será una red neuronal profunda que el alumno debe diseñar, entrenar y optimizar. Se debe justificar empíricamente las decisiones que llevaron a la selección de atributos, capas y parámetros a los que se ha llegado. Se espera que el alumno utilice todas las técnicas de optimización mostradas en clase de forma justificada para la mejora del rendimiento de la red neuronal.\n",
        "\n",
        "## Normas a seguir\n",
        "\n",
        "- Se debe entregar un notebook que incluya las instrucciones presentes\n",
        "- El notebook, junto a cualquier archivo necesario, __deberá entregarse como un link compartido__ en una carpeta gdrive\n",
        "- Aunque los alumnos pueden trabajar en sus propios ordenadores, __la entrega deberá hacerse como un notebook en google colaboratory__, de forma que el profesor pueda abrir y ejectutar el código desde Google Colab sin necesitar alteraciones (salvo el cambio de BASE_FOLDER)\n",
        "- Las __redes utilizadas deben estar entrenadas y ser cargadas__ desde un archivo. La entrega de una red sin entrenar supondrá perdidad de puntos.\n",
        "- Si se desea __evidenciar alguna métrica__ del proceso de entrenamiento (precisión, pérdida, etc), estas deben ser generadas y guardadas, y __mostradas en el notebook final solo como imagen__.\n",
        "- Todos los archivos que deban adjuntarse a la actividad __deberán incluirse en la carpeta gdrive compartida__, y el notebook debe hacer referencias parciales a los mismos.\n",
        "- Tanto __la carga de archivos como guardar datos a archivos__ deberán siempre __contener referencias parciales__ con respecto a un directorio base (__BASE_FOLDER__).  En este notebook se incluye un ejemplo de cómo cargar datos utilizando un directorio base.\n",
        "\n",
        "\n",
        "\n",
        "## Criterio de evaluación\n",
        "\n",
        "- Seguimiento de las normas establecidas en la actividad\n",
        "- Efectividad al presentar las comparaciones entre métricas de evaluación de ambos modelos\n",
        "- Demostración de la utilización de técnicas de optimización para mejorar el rendimiento de los modelos.\n",
        "- Corrección en el uso de algoritmos, modelos y formas idiomáticas en Python.\n",
        "- Se deberá incluir mediante un link de acceso público, tanto el notebook como cualquier archivo que se utilice en el mismo. En el notebook se deberán cargar los modelos a través de estos archivos.\n",
        "- El código debe poder ejecutarse sin modificación alguna (salvo el cambio de BASE_DIRECTORY) en Google Colaboratory."
      ]
    },
    {
      "metadata": {
        "id": "aYZ6eBCaq8Cp",
        "colab_type": "text"
      },
      "cell_type": "markdown",
      "source": [
        "### Obtención del dataset preprocesado Caltech 101"
      ]
    },
    {
      "metadata": {
        "id": "hq0IMn9xq8Cs",
        "colab_type": "text"
      },
      "cell_type": "markdown",
      "source": [
        "A partir de Caltech 101 dataset \n",
        "- original en http://www.vision.caltech.edu/Image_Datasets/Caltech101/#Download\n",
        "- preprocesado subido al gdrive https://drive.google.com/open?id=1ziDd-Au-Fn8XneBeDQya9MjPBoTpDqqK"
      ]
    },
    {
      "metadata": {
        "id": "ZZMufJgSq8Cw",
        "colab_type": "code",
        "outputId": "49d2398f-4c8e-49e4-cd19-91af76bbf9c9",
        "colab": {
          "base_uri": "https://localhost:8080/",
          "height": 129
        }
      },
      "cell_type": "code",
      "source": [
        "###################################################################################################\n",
        "# La utilizacion de un directorio base es obligatoria\n",
        "# Todas las referencias al disco duro (guardar o cargar) deberan tener esta variable como base\n",
        "###################################################################################################\n",
        "BASE_FOLDER = '/content/drive/My Drive/Master IA/Modulo 6 RN y DP/'\n",
        "###################################################################################################\n",
        "\n",
        "from google.colab import drive\n",
        "drive.mount('/content/drive/')"
      ],
      "execution_count": 1,
      "outputs": [
        {
          "output_type": "stream",
          "text": [
            "Go to this URL in a browser: https://accounts.google.com/o/oauth2/auth?client_id=947318989803-6bn6qk8qdgf4n4g3pfee6491hc0brc4i.apps.googleusercontent.com&redirect_uri=urn%3Aietf%3Awg%3Aoauth%3A2.0%3Aoob&scope=email%20https%3A%2F%2Fwww.googleapis.com%2Fauth%2Fdocs.test%20https%3A%2F%2Fwww.googleapis.com%2Fauth%2Fdrive%20https%3A%2F%2Fwww.googleapis.com%2Fauth%2Fdrive.photos.readonly%20https%3A%2F%2Fwww.googleapis.com%2Fauth%2Fpeopleapi.readonly&response_type=code\n",
            "\n",
            "Enter your authorization code:\n",
            "··········\n",
            "Mounted at /content/drive/\n"
          ],
          "name": "stdout"
        }
      ]
    },
    {
      "metadata": {
        "id": "D0qOhGDmq8DI",
        "colab_type": "code",
        "colab": {}
      },
      "cell_type": "code",
      "source": [
        "import os\n",
        "import numpy as np\n",
        "import pandas as pd\n",
        "import matplotlib.pyplot as plt\n",
        "import matplotlib.image as mpimg\n",
        "import tarfile\n",
        "import pickle\n",
        "%matplotlib inline"
      ],
      "execution_count": 0,
      "outputs": []
    },
    {
      "metadata": {
        "id": "NdrzKehoq8DW",
        "colab_type": "code",
        "colab": {}
      },
      "cell_type": "code",
      "source": [
        "###################################################################################################\n",
        "# Ejemplo de como cargar de archivos con referencia al directorio base\n",
        "###################################################################################################\n",
        "\n",
        "# DESCARGAR Y DESCOMPRIMIR EL DATASET CALTECH_PREPROCESADO DEL GDRIVE\n",
        "# Cargar las ndarrays\n",
        "# Los archivos del dataset caltech se descomprimieron y se colocaron en la carpeta CALTECH_folder de GDrive\n",
        "CALTECH_folder='caltech101_dataset/'\n",
        "with open(BASE_FOLDER+CALTECH_folder+\"pickle_all_images_df.pickle\", \"rb\") as input_file:\n",
        "    x_datos = pickle.load(input_file)\n",
        "with open(BASE_FOLDER+CALTECH_folder+\"pickle_all_classes.pickle\", \"rb\") as input_file:\n",
        "    y_datos = pickle.load(input_file)\n"
      ],
      "execution_count": 0,
      "outputs": []
    },
    {
      "metadata": {
        "id": "3jpbsdnGq8Di",
        "colab_type": "code",
        "outputId": "fcf16958-d87f-4ddb-bf18-d31dd672d192",
        "colab": {
          "base_uri": "https://localhost:8080/",
          "height": 54
        }
      },
      "cell_type": "code",
      "source": [
        "print(x_datos.shape)\n",
        "print(len(y_datos))"
      ],
      "execution_count": 4,
      "outputs": [
        {
          "output_type": "stream",
          "text": [
            "(9145, 128, 128, 3)\n",
            "9145\n"
          ],
          "name": "stdout"
        }
      ]
    },
    {
      "metadata": {
        "id": "PzIRS3Z8q8D0",
        "colab_type": "code",
        "outputId": "a2d1626c-3dda-4d2c-9830-55e7965d8281",
        "colab": {
          "base_uri": "https://localhost:8080/",
          "height": 287
        }
      },
      "cell_type": "code",
      "source": [
        "# show image\n",
        "ELEMENT=100#9144\n",
        "imgplot = plt.imshow(x_datos[ELEMENT])\n",
        "plt.show()\n",
        "print(y_datos[ELEMENT])"
      ],
      "execution_count": 5,
      "outputs": [
        {
          "output_type": "display_data",
          "data": {
            "image/png": "[encoded data removed]",
            "text/plain": [
              "<Figure size 432x288 with 1 Axes>"
            ]
          },
          "metadata": {
            "tags": []
          }
        },
        {
          "output_type": "stream",
          "text": [
            "airplanes\n"
          ],
          "name": "stdout"
        }
      ]
    },
    {
      "metadata": {
        "id": "d1WQdcwcq8EE",
        "colab_type": "code",
        "outputId": "5bdc8d57-54b3-468f-b098-4e9e1f4010f0",
        "colab": {
          "base_uri": "https://localhost:8080/",
          "height": 110
        }
      },
      "cell_type": "code",
      "source": [
        "# Transformando las labels de texto a valores numéricos\n",
        "y = np.unique(y_datos)\n",
        "mapping = { key : value for key,value in zip(y,range(len(y)))}\n",
        "processed_y = np.array([mapping[i] for i in y_datos])\n",
        "#print(y)\n",
        "x_etiquetas=processed_y\n",
        "print(mapping)\n",
        "print(x_etiquetas)\n",
        "print(\"clases\")\n",
        "print(len(y))\n",
        "number_of_classes=len(y)\n"
      ],
      "execution_count": 6,
      "outputs": [
        {
          "output_type": "stream",
          "text": [
            "{'BACKGROUND_Google': 0, 'Faces': 1, 'Faces_easy': 2, 'Leopards': 3, 'Motorbikes': 4, 'accordion': 5, 'airplanes': 6, 'anchor': 7, 'ant': 8, 'barrel': 9, 'bass': 10, 'beaver': 11, 'binocular': 12, 'bonsai': 13, 'brain': 14, 'brontosaurus': 15, 'buddha': 16, 'butterfly': 17, 'camera': 18, 'cannon': 19, 'car_side': 20, 'ceiling_fan': 21, 'cellphone': 22, 'chair': 23, 'chandelier': 24, 'cougar_body': 25, 'cougar_face': 26, 'crab': 27, 'crayfish': 28, 'crocodile': 29, 'crocodile_head': 30, 'cup': 31, 'dalmatian': 32, 'dollar_bill': 33, 'dolphin': 34, 'dragonfly': 35, 'electric_guitar': 36, 'elephant': 37, 'emu': 38, 'euphonium': 39, 'ewer': 40, 'ferry': 41, 'flamingo': 42, 'flamingo_head': 43, 'garfield': 44, 'gerenuk': 45, 'gramophone': 46, 'grand_piano': 47, 'hawksbill': 48, 'headphone': 49, 'hedgehog': 50, 'helicopter': 51, 'ibis': 52, 'inline_skate': 53, 'joshua_tree': 54, 'kangaroo': 55, 'ketch': 56, 'lamp': 57, 'laptop': 58, 'llama': 59, 'lobster': 60, 'lotus': 61, 'mandolin': 62, 'mayfly': 63, 'menorah': 64, 'metronome': 65, 'minaret': 66, 'nautilus': 67, 'octopus': 68, 'okapi': 69, 'pagoda': 70, 'panda': 71, 'pigeon': 72, 'pizza': 73, 'platypus': 74, 'pyramid': 75, 'revolver': 76, 'rhino': 77, 'rooster': 78, 'saxophone': 79, 'schooner': 80, 'scissors': 81, 'scorpion': 82, 'sea_horse': 83, 'snoopy': 84, 'soccer_ball': 85, 'stapler': 86, 'starfish': 87, 'stegosaurus': 88, 'stop_sign': 89, 'strawberry': 90, 'sunflower': 91, 'tick': 92, 'trilobite': 93, 'umbrella': 94, 'watch': 95, 'water_lilly': 96, 'wheelchair': 97, 'wild_cat': 98, 'windsor_chair': 99, 'wrench': 100, 'yin_yang': 101}\n",
            "[  5   5   5 ... 101 101 101]\n",
            "clases\n",
            "102\n"
          ],
          "name": "stdout"
        }
      ]
    },
    {
      "metadata": {
        "id": "h6-5ibqP_M0g",
        "colab_type": "code",
        "colab": {}
      },
      "cell_type": "code",
      "source": [
        "#Generando conjuntos de entrenamiento y prueba\n",
        "train_data=x_datos[4000:9090]\n",
        "test_data =x_datos[7096:9144]\n",
        "train_labels=x_etiquetas[4000:9090]\n",
        "test_labels=x_etiquetas[7096:9144]"
      ],
      "execution_count": 0,
      "outputs": []
    },
    {
      "metadata": {
        "id": "WoQjJvrEKFOO",
        "colab_type": "code",
        "outputId": "84d136fa-8776-43ad-8772-893013a84e19",
        "colab": {
          "base_uri": "https://localhost:8080/",
          "height": 458
        }
      },
      "cell_type": "code",
      "source": [
        "from keras.utils import to_categorical\n",
        "# transformacion de los datos\n",
        "#x_train=train_data.reshape(128,128,3)\n",
        "x_train=train_data\n",
        "x_train = x_train.astype('float32')/255\n",
        "#x_test=test_data.reshape(128,128,3)\n",
        "x_test=test_data\n",
        "x_test = x_test.astype('float32')/255\n",
        "y_train = to_categorical(train_labels)\n",
        "y_test = to_categorical(test_labels)\n",
        "#y_train=train_labels\n",
        "#y_test=test_labels\n",
        "print(test_labels.shape)\n",
        "print(len(x_train))\n",
        "print(x_train.shape)\n",
        "print(len(y_train))\n",
        "print(y_train.shape)\n",
        "print(len(x_test))\n",
        "print(x_test.shape)\n",
        "print(len(y_test))\n",
        "print(y_test.shape)\n",
        "print(y_train)\n",
        "print(y_test)"
      ],
      "execution_count": 8,
      "outputs": [
        {
          "output_type": "stream",
          "text": [
            "Using TensorFlow backend.\n"
          ],
          "name": "stderr"
        },
        {
          "output_type": "stream",
          "text": [
            "(2048,)\n",
            "5090\n",
            "(5090, 128, 128, 3)\n",
            "5090\n",
            "(5090, 102)\n",
            "2048\n",
            "(2048, 128, 128, 3)\n",
            "2048\n",
            "(2048, 102)\n",
            "[[0. 0. 1. ... 0. 0. 0.]\n",
            " [0. 0. 1. ... 0. 0. 0.]\n",
            " [0. 0. 1. ... 0. 0. 0.]\n",
            " ...\n",
            " [0. 0. 0. ... 0. 0. 1.]\n",
            " [0. 0. 0. ... 0. 0. 1.]\n",
            " [0. 0. 0. ... 0. 0. 1.]]\n",
            "[[0. 0. 0. ... 0. 0. 0.]\n",
            " [0. 0. 0. ... 0. 0. 0.]\n",
            " [0. 0. 0. ... 0. 0. 0.]\n",
            " ...\n",
            " [0. 0. 0. ... 0. 0. 1.]\n",
            " [0. 0. 0. ... 0. 0. 1.]\n",
            " [0. 0. 0. ... 0. 0. 1.]]\n"
          ],
          "name": "stdout"
        }
      ]
    },
    {
      "metadata": {
        "id": "aHQydfCGEvi-",
        "colab_type": "text"
      },
      "cell_type": "markdown",
      "source": [
        "<b>Estrategia 1: Red pre-entrenada</b><br>\n",
        "  Red entrenada en ImageNet: animales, objetos, etc. 1.4 millones<br>\n",
        "Utilizar la parte convolucional de una red entrenada en gran dataset<br>\n",
        "genérica\n",
        "  "
      ]
    },
    {
      "metadata": {
        "id": "-vqef9-1EZVy",
        "colab_type": "code",
        "outputId": "bb324e87-b35c-4995-dc8f-c6657a38633b",
        "colab": {
          "base_uri": "https://localhost:8080/",
          "height": 880
        }
      },
      "cell_type": "code",
      "source": [
        "#keras incluye varias arquitecturas\n",
        "# VGG16, VGG19, ResNet50, Xception, InceptionV3, InceptionResNetV2, MobileNetV2, DenseNet, RasNet\n",
        "# documentacion https://keras.io/applications/\n",
        "# Visual Geometry Group 16 / 19 (numero de layers)\n",
        "# 1 y 2 en la competicion ImageNet 2014\n",
        "# kernels pequenyos de 3x3\n",
        "from keras.applications import VGG16\n",
        "\n",
        "conv_base = VGG16(weights='imagenet',\n",
        "                 include_top=False, # incluir la parte densa (fully connected)\n",
        "                 input_shape=(128,128,3))\n",
        "conv_base.summary()"
      ],
      "execution_count": 18,
      "outputs": [
        {
          "output_type": "stream",
          "text": [
            "Downloading data from https://github.com/fchollet/deep-learning-models/releases/download/v0.1/vgg16_weights_tf_dim_ordering_tf_kernels_notop.h5\n",
            "58892288/58889256 [==============================] - 7s 0us/step\n",
            "_________________________________________________________________\n",
            "Layer (type)                 Output Shape              Param #   \n",
            "=================================================================\n",
            "input_1 (InputLayer)         (None, 128, 128, 3)       0         \n",
            "_________________________________________________________________\n",
            "block1_conv1 (Conv2D)        (None, 128, 128, 64)      1792      \n",
            "_________________________________________________________________\n",
            "block1_conv2 (Conv2D)        (None, 128, 128, 64)      36928     \n",
            "_________________________________________________________________\n",
            "block1_pool (MaxPooling2D)   (None, 64, 64, 64)        0         \n",
            "_________________________________________________________________\n",
            "block2_conv1 (Conv2D)        (None, 64, 64, 128)       73856     \n",
            "_________________________________________________________________\n",
            "block2_conv2 (Conv2D)        (None, 64, 64, 128)       147584    \n",
            "_________________________________________________________________\n",
            "block2_pool (MaxPooling2D)   (None, 32, 32, 128)       0         \n",
            "_________________________________________________________________\n",
            "block3_conv1 (Conv2D)        (None, 32, 32, 256)       295168    \n",
            "_________________________________________________________________\n",
            "block3_conv2 (Conv2D)        (None, 32, 32, 256)       590080    \n",
            "_________________________________________________________________\n",
            "block3_conv3 (Conv2D)        (None, 32, 32, 256)       590080    \n",
            "_________________________________________________________________\n",
            "block3_pool (MaxPooling2D)   (None, 16, 16, 256)       0         \n",
            "_________________________________________________________________\n",
            "block4_conv1 (Conv2D)        (None, 16, 16, 512)       1180160   \n",
            "_________________________________________________________________\n",
            "block4_conv2 (Conv2D)        (None, 16, 16, 512)       2359808   \n",
            "_________________________________________________________________\n",
            "block4_conv3 (Conv2D)        (None, 16, 16, 512)       2359808   \n",
            "_________________________________________________________________\n",
            "block4_pool (MaxPooling2D)   (None, 8, 8, 512)         0         \n",
            "_________________________________________________________________\n",
            "block5_conv1 (Conv2D)        (None, 8, 8, 512)         2359808   \n",
            "_________________________________________________________________\n",
            "block5_conv2 (Conv2D)        (None, 8, 8, 512)         2359808   \n",
            "_________________________________________________________________\n",
            "block5_conv3 (Conv2D)        (None, 8, 8, 512)         2359808   \n",
            "_________________________________________________________________\n",
            "block5_pool (MaxPooling2D)   (None, 4, 4, 512)         0         \n",
            "=================================================================\n",
            "Total params: 14,714,688\n",
            "Trainable params: 14,714,688\n",
            "Non-trainable params: 0\n",
            "_________________________________________________________________\n"
          ],
          "name": "stdout"
        }
      ]
    },
    {
      "metadata": {
        "id": "qq-RLJ3oGBII",
        "colab_type": "code",
        "outputId": "0eedb7e8-e980-4011-bf38-654141e9ab1f",
        "colab": {
          "base_uri": "https://localhost:8080/",
          "height": 293
        }
      },
      "cell_type": "code",
      "source": [
        "# conectarlo a nueva parte densa\n",
        "from keras import models\n",
        "from keras import layers\n",
        "from keras.layers import Conv2D, MaxPooling2D\n",
        "\n",
        "conv_base.trainable = False # evitar que los pesos se modifiquen en la parte convolucional\n",
        "pre_trained_model_vgg16 = models.Sequential()\n",
        "pre_trained_model_vgg16.add(conv_base)\n",
        "pre_trained_model_vgg16.add(layers.Flatten())\n",
        "red_conv_inicial.add(layers.Dropout(0.25))\n",
        "pre_trained_model_vgg16.add(layers.Dense(512, activation='relu'))\n",
        "pre_trained_model_vgg16.add(layers.Dense(number_of_classes, activation='softmax'))\n",
        "\n",
        "pre_trained_model_vgg16.summary()"
      ],
      "execution_count": 28,
      "outputs": [
        {
          "output_type": "stream",
          "text": [
            "_________________________________________________________________\n",
            "Layer (type)                 Output Shape              Param #   \n",
            "=================================================================\n",
            "vgg16 (Model)                (None, 4, 4, 512)         14714688  \n",
            "_________________________________________________________________\n",
            "flatten_3 (Flatten)          (None, 8192)              0         \n",
            "_________________________________________________________________\n",
            "dense_7 (Dense)              (None, 512)               4194816   \n",
            "_________________________________________________________________\n",
            "dense_8 (Dense)              (None, 102)               52326     \n",
            "=================================================================\n",
            "Total params: 18,961,830\n",
            "Trainable params: 4,247,142\n",
            "Non-trainable params: 14,714,688\n",
            "_________________________________________________________________\n"
          ],
          "name": "stdout"
        }
      ]
    },
    {
      "metadata": {
        "id": "a89WcVOeIl4k",
        "colab_type": "code",
        "outputId": "341c432e-6c21-4f4b-a24f-173d74f7c635",
        "colab": {
          "base_uri": "https://localhost:8080/",
          "height": 72
        }
      },
      "cell_type": "code",
      "source": [
        "print(number_of_classes)\n",
        "print(y_train.shape)\n",
        "print(y_test.shape)"
      ],
      "execution_count": 29,
      "outputs": [
        {
          "output_type": "stream",
          "text": [
            "102\n",
            "(5090, 102)\n",
            "(2048, 102)\n"
          ],
          "name": "stdout"
        }
      ]
    },
    {
      "metadata": {
        "id": "0y_rAgIgHg3s",
        "colab_type": "code",
        "colab": {}
      },
      "cell_type": "code",
      "source": [
        "# compilar el modelo\n",
        "pre_trained_model_vgg16.compile(optimizer='rmsprop',\n",
        "               loss='categorical_crossentropy',\n",
        "               metrics=['accuracy'])"
      ],
      "execution_count": 0,
      "outputs": []
    },
    {
      "metadata": {
        "id": "Oid39HKKrFSP",
        "colab_type": "code",
        "outputId": "0c342fc5-491b-45c1-bc8e-cdbed5bcb3af",
        "colab": {
          "base_uri": "https://localhost:8080/",
          "height": 770
        }
      },
      "cell_type": "code",
      "source": [
        "history_vgg16 = pre_trained_model_vgg16.fit(x_train,y_train,epochs=20,batch_size=64,validation_data=(x_test,y_test))"
      ],
      "execution_count": 31,
      "outputs": [
        {
          "output_type": "stream",
          "text": [
            "Train on 5090 samples, validate on 2048 samples\n",
            "Epoch 1/20\n",
            "5090/5090 [==============================] - 12s 2ms/step - loss: 4.0932 - acc: 0.1356 - val_loss: 4.4904 - val_acc: 0.0000e+00\n",
            "Epoch 2/20\n",
            "5090/5090 [==============================] - 11s 2ms/step - loss: 3.8057 - acc: 0.1552 - val_loss: 4.4491 - val_acc: 0.0000e+00\n",
            "Epoch 3/20\n",
            "5090/5090 [==============================] - 11s 2ms/step - loss: 3.7934 - acc: 0.1568 - val_loss: 4.4012 - val_acc: 0.0000e+00\n",
            "Epoch 4/20\n",
            "5090/5090 [==============================] - 11s 2ms/step - loss: 3.7838 - acc: 0.1568 - val_loss: 4.4295 - val_acc: 0.0000e+00\n",
            "Epoch 5/20\n",
            "5090/5090 [==============================] - 11s 2ms/step - loss: 3.7847 - acc: 0.1568 - val_loss: 4.4212 - val_acc: 0.0000e+00\n",
            "Epoch 6/20\n",
            "5090/5090 [==============================] - 11s 2ms/step - loss: 3.7836 - acc: 0.1568 - val_loss: 4.3840 - val_acc: 0.0000e+00\n",
            "Epoch 7/20\n",
            "5090/5090 [==============================] - 11s 2ms/step - loss: 3.7790 - acc: 0.1568 - val_loss: 4.5392 - val_acc: 0.0000e+00\n",
            "Epoch 8/20\n",
            "5090/5090 [==============================] - 11s 2ms/step - loss: 3.7739 - acc: 0.1568 - val_loss: 4.4010 - val_acc: 0.0000e+00\n",
            "Epoch 9/20\n",
            "5090/5090 [==============================] - 11s 2ms/step - loss: 3.7738 - acc: 0.1568 - val_loss: 4.3589 - val_acc: 0.0000e+00\n",
            "Epoch 10/20\n",
            "5090/5090 [==============================] - 11s 2ms/step - loss: 3.7765 - acc: 0.1568 - val_loss: 4.2751 - val_acc: 0.0000e+00\n",
            "Epoch 11/20\n",
            "5090/5090 [==============================] - 11s 2ms/step - loss: 3.7721 - acc: 0.1568 - val_loss: 4.5399 - val_acc: 0.0000e+00\n",
            "Epoch 12/20\n",
            "5090/5090 [==============================] - 11s 2ms/step - loss: 3.7717 - acc: 0.1568 - val_loss: 4.2859 - val_acc: 0.0000e+00\n",
            "Epoch 13/20\n",
            "5090/5090 [==============================] - 11s 2ms/step - loss: 3.7720 - acc: 0.1568 - val_loss: 4.3198 - val_acc: 0.0000e+00\n",
            "Epoch 14/20\n",
            "5090/5090 [==============================] - 11s 2ms/step - loss: 3.7711 - acc: 0.1568 - val_loss: 4.3105 - val_acc: 0.0000e+00\n",
            "Epoch 15/20\n",
            "5090/5090 [==============================] - 11s 2ms/step - loss: 3.7738 - acc: 0.1568 - val_loss: 4.4716 - val_acc: 0.0000e+00\n",
            "Epoch 16/20\n",
            "5090/5090 [==============================] - 11s 2ms/step - loss: 3.7705 - acc: 0.1568 - val_loss: 4.3766 - val_acc: 0.0000e+00\n",
            "Epoch 17/20\n",
            "5090/5090 [==============================] - 11s 2ms/step - loss: 3.7666 - acc: 0.1568 - val_loss: 4.4687 - val_acc: 0.0000e+00\n",
            "Epoch 18/20\n",
            "5090/5090 [==============================] - 11s 2ms/step - loss: 3.7659 - acc: 0.1568 - val_loss: 4.3472 - val_acc: 0.0000e+00\n",
            "Epoch 19/20\n",
            "5090/5090 [==============================] - 11s 2ms/step - loss: 3.7639 - acc: 0.1568 - val_loss: 4.3608 - val_acc: 0.0000e+00\n",
            "Epoch 20/20\n",
            "5090/5090 [==============================] - 11s 2ms/step - loss: 3.7684 - acc: 0.1568 - val_loss: 4.5326 - val_acc: 0.0000e+00\n"
          ],
          "name": "stdout"
        }
      ]
    },
    {
      "metadata": {
        "id": "y5ynl2ix5xX_",
        "colab_type": "code",
        "outputId": "a44696c7-7834-48ed-bfda-c48eb5d60522",
        "colab": {
          "base_uri": "https://localhost:8080/",
          "height": 54
        }
      },
      "cell_type": "code",
      "source": [
        "loss,accuracy = pre_trained_model_vgg16.evaluate(x_test,y_test)\n",
        "print('loss {} accuracy {}'.format(loss,accuracy))"
      ],
      "execution_count": 0,
      "outputs": [
        {
          "output_type": "stream",
          "text": [
            "2048/2048 [==============================] - 5s 2ms/step\n",
            "loss 4.731424812227488 accuracy 0.0\n"
          ],
          "name": "stdout"
        }
      ]
    },
    {
      "metadata": {
        "id": "50LKUYcL-XSx",
        "colab_type": "code",
        "outputId": "f7137946-5889-4204-aa1c-2ec27497b7cd",
        "colab": {
          "base_uri": "https://localhost:8080/",
          "height": 295
        }
      },
      "cell_type": "code",
      "source": [
        "import numpy as np\n",
        "import matplotlib.pyplot as plt\n",
        "%matplotlib inline\n",
        "\n",
        "#plot accuracy\n",
        "epochs = np.arange(1,len(history_vgg16.history['acc'])+1)\n",
        "plt.title('Accuracy over training')\n",
        "plt.xlabel('epoch')\n",
        "plt.ylabel('accuracy')\n",
        "plt.plot(epochs,history_vgg16.history['acc'],'r',label='training accuracy')\n",
        "plt.plot(epochs,history_vgg16.history['val_acc'],'b',label='validation accuracy')\n",
        "plt.legend(loc='best')\n",
        "plt.show()"
      ],
      "execution_count": 0,
      "outputs": [
        {
          "output_type": "display_data",
          "data": {
            "image/png": "[encoded data removed]",
            "text/plain": [
              "<Figure size 432x288 with 1 Axes>"
            ]
          },
          "metadata": {
            "tags": []
          }
        }
      ]
    },
    {
      "metadata": {
        "id": "tnctKqZfATk_",
        "colab_type": "code",
        "outputId": "754eb621-2b78-44e0-fb65-fab3bcae79ab",
        "colab": {
          "base_uri": "https://localhost:8080/",
          "height": 990
        }
      },
      "cell_type": "code",
      "source": [
        "#keras incluye varias arquitecturas\n",
        "# VGG16, VGG19, ResNet50, Xception, InceptionV3, InceptionResNetV2, MobileNetV2, DenseNet, RasNet\n",
        "# documentacion https://keras.io/applications/\n",
        "# Visual Geometry Group 16 / 19 (numero de layers)\n",
        "# 1 y 2 en la competicion ImageNet 2014\n",
        "# kernels pequenyos de 3x3\n",
        "from keras.applications import VGG19\n",
        "\n",
        "conv_base = VGG19(weights='imagenet',\n",
        "                 include_top=False, # incluir la parte densa (fully connected)\n",
        "                 input_shape=(128,128,3))\n",
        "conv_base.summary()"
      ],
      "execution_count": 0,
      "outputs": [
        {
          "output_type": "stream",
          "text": [
            "Downloading data from https://github.com/fchollet/deep-learning-models/releases/download/v0.1/vgg19_weights_tf_dim_ordering_tf_kernels_notop.h5\n",
            "80142336/80134624 [==============================] - 23s 0us/step\n",
            "_________________________________________________________________\n",
            "Layer (type)                 Output Shape              Param #   \n",
            "=================================================================\n",
            "input_3 (InputLayer)         (None, 128, 128, 3)       0         \n",
            "_________________________________________________________________\n",
            "block1_conv1 (Conv2D)        (None, 128, 128, 64)      1792      \n",
            "_________________________________________________________________\n",
            "block1_conv2 (Conv2D)        (None, 128, 128, 64)      36928     \n",
            "_________________________________________________________________\n",
            "block1_pool (MaxPooling2D)   (None, 64, 64, 64)        0         \n",
            "_________________________________________________________________\n",
            "block2_conv1 (Conv2D)        (None, 64, 64, 128)       73856     \n",
            "_________________________________________________________________\n",
            "block2_conv2 (Conv2D)        (None, 64, 64, 128)       147584    \n",
            "_________________________________________________________________\n",
            "block2_pool (MaxPooling2D)   (None, 32, 32, 128)       0         \n",
            "_________________________________________________________________\n",
            "block3_conv1 (Conv2D)        (None, 32, 32, 256)       295168    \n",
            "_________________________________________________________________\n",
            "block3_conv2 (Conv2D)        (None, 32, 32, 256)       590080    \n",
            "_________________________________________________________________\n",
            "block3_conv3 (Conv2D)        (None, 32, 32, 256)       590080    \n",
            "_________________________________________________________________\n",
            "block3_conv4 (Conv2D)        (None, 32, 32, 256)       590080    \n",
            "_________________________________________________________________\n",
            "block3_pool (MaxPooling2D)   (None, 16, 16, 256)       0         \n",
            "_________________________________________________________________\n",
            "block4_conv1 (Conv2D)        (None, 16, 16, 512)       1180160   \n",
            "_________________________________________________________________\n",
            "block4_conv2 (Conv2D)        (None, 16, 16, 512)       2359808   \n",
            "_________________________________________________________________\n",
            "block4_conv3 (Conv2D)        (None, 16, 16, 512)       2359808   \n",
            "_________________________________________________________________\n",
            "block4_conv4 (Conv2D)        (None, 16, 16, 512)       2359808   \n",
            "_________________________________________________________________\n",
            "block4_pool (MaxPooling2D)   (None, 8, 8, 512)         0         \n",
            "_________________________________________________________________\n",
            "block5_conv1 (Conv2D)        (None, 8, 8, 512)         2359808   \n",
            "_________________________________________________________________\n",
            "block5_conv2 (Conv2D)        (None, 8, 8, 512)         2359808   \n",
            "_________________________________________________________________\n",
            "block5_conv3 (Conv2D)        (None, 8, 8, 512)         2359808   \n",
            "_________________________________________________________________\n",
            "block5_conv4 (Conv2D)        (None, 8, 8, 512)         2359808   \n",
            "_________________________________________________________________\n",
            "block5_pool (MaxPooling2D)   (None, 4, 4, 512)         0         \n",
            "=================================================================\n",
            "Total params: 20,024,384\n",
            "Trainable params: 20,024,384\n",
            "Non-trainable params: 0\n",
            "_________________________________________________________________\n"
          ],
          "name": "stdout"
        }
      ]
    },
    {
      "metadata": {
        "id": "25RiBPkhAsdG",
        "colab_type": "code",
        "outputId": "f97fe226-21bc-4718-d53c-d8cb71f7323b",
        "colab": {
          "base_uri": "https://localhost:8080/",
          "height": 293
        }
      },
      "cell_type": "code",
      "source": [
        "# conectarlo a nueva parte densa\n",
        "from keras import models\n",
        "from keras import layers\n",
        "from keras.layers import Conv2D, MaxPooling2D\n",
        "\n",
        "conv_base.trainable = False # evitar que los pesos se modifiquen en la parte convolucional\n",
        "pre_trained_model_vgg19 = models.Sequential()\n",
        "pre_trained_model_vgg19.add(conv_base)\n",
        "pre_trained_model_vgg19.add(layers.Flatten())\n",
        "pre_trained_model_vgg19.add(layers.Dense(512, activation='relu'))\n",
        "pre_trained_model_vgg19.add(layers.Dense(number_of_classes, activation='softmax'))\n",
        "\n",
        "pre_trained_model_vgg19.summary()"
      ],
      "execution_count": 0,
      "outputs": [
        {
          "output_type": "stream",
          "text": [
            "_________________________________________________________________\n",
            "Layer (type)                 Output Shape              Param #   \n",
            "=================================================================\n",
            "vgg19 (Model)                (None, 4, 4, 512)         20024384  \n",
            "_________________________________________________________________\n",
            "flatten_3 (Flatten)          (None, 8192)              0         \n",
            "_________________________________________________________________\n",
            "dense_5 (Dense)              (None, 512)               4194816   \n",
            "_________________________________________________________________\n",
            "dense_6 (Dense)              (None, 102)               52326     \n",
            "=================================================================\n",
            "Total params: 24,271,526\n",
            "Trainable params: 4,247,142\n",
            "Non-trainable params: 20,024,384\n",
            "_________________________________________________________________\n"
          ],
          "name": "stdout"
        }
      ]
    },
    {
      "metadata": {
        "id": "WvGDdV6zBB55",
        "colab_type": "code",
        "colab": {}
      },
      "cell_type": "code",
      "source": [
        "# compilar el modelo\n",
        "pre_trained_model_vgg19.compile(optimizer='rmsprop',\n",
        "               loss='categorical_crossentropy',\n",
        "               metrics=['accuracy'])"
      ],
      "execution_count": 0,
      "outputs": []
    },
    {
      "metadata": {
        "id": "7yiy_ufGBTHb",
        "colab_type": "code",
        "outputId": "2e3ccd9a-7d7d-475d-f4a0-f3b728dbbbf7",
        "colab": {
          "base_uri": "https://localhost:8080/",
          "height": 770
        }
      },
      "cell_type": "code",
      "source": [
        "history_vgg19 = pre_trained_model_vgg19.fit(x_train,y_train,epochs=20,batch_size=64,validation_data=(x_test,y_test))"
      ],
      "execution_count": 0,
      "outputs": [
        {
          "output_type": "stream",
          "text": [
            "Train on 9090 samples, validate on 2048 samples\n",
            "Epoch 1/20\n",
            "9090/9090 [==============================] - 21s 2ms/step - loss: 4.1797 - acc: 0.0881 - val_loss: 4.7063 - val_acc: 0.0000e+00\n",
            "Epoch 2/20\n",
            "9090/9090 [==============================] - 21s 2ms/step - loss: 4.1814 - acc: 0.0897 - val_loss: 5.2376 - val_acc: 0.0000e+00\n",
            "Epoch 3/20\n",
            "9090/9090 [==============================] - 21s 2ms/step - loss: 4.1732 - acc: 0.0869 - val_loss: 4.6717 - val_acc: 0.0000e+00\n",
            "Epoch 4/20\n",
            "9090/9090 [==============================] - 21s 2ms/step - loss: 4.1893 - acc: 0.0871 - val_loss: 5.2306 - val_acc: 0.0000e+00\n",
            "Epoch 5/20\n",
            "9090/9090 [==============================] - 21s 2ms/step - loss: 4.1729 - acc: 0.0886 - val_loss: 4.7936 - val_acc: 0.0000e+00\n",
            "Epoch 6/20\n",
            "9090/9090 [==============================] - 21s 2ms/step - loss: 4.1707 - acc: 0.0861 - val_loss: 4.9446 - val_acc: 0.0000e+00\n",
            "Epoch 7/20\n",
            "9090/9090 [==============================] - 21s 2ms/step - loss: 4.1700 - acc: 0.0858 - val_loss: 4.7691 - val_acc: 0.0000e+00\n",
            "Epoch 8/20\n",
            "9090/9090 [==============================] - 21s 2ms/step - loss: 4.1689 - acc: 0.0866 - val_loss: 5.0917 - val_acc: 0.0000e+00\n",
            "Epoch 9/20\n",
            "9090/9090 [==============================] - 21s 2ms/step - loss: 4.1698 - acc: 0.0871 - val_loss: 5.2764 - val_acc: 0.0000e+00\n",
            "Epoch 10/20\n",
            "9090/9090 [==============================] - 21s 2ms/step - loss: 4.1699 - acc: 0.0872 - val_loss: 4.7476 - val_acc: 0.0000e+00\n",
            "Epoch 11/20\n",
            "9090/9090 [==============================] - 21s 2ms/step - loss: 4.1710 - acc: 0.0877 - val_loss: 4.9577 - val_acc: 0.0000e+00\n",
            "Epoch 12/20\n",
            "9090/9090 [==============================] - 21s 2ms/step - loss: 4.1690 - acc: 0.0876 - val_loss: 5.3068 - val_acc: 0.0000e+00\n",
            "Epoch 13/20\n",
            "9090/9090 [==============================] - 21s 2ms/step - loss: 4.1683 - acc: 0.0861 - val_loss: 4.7133 - val_acc: 0.0000e+00\n",
            "Epoch 14/20\n",
            "9090/9090 [==============================] - 21s 2ms/step - loss: 4.1684 - acc: 0.0894 - val_loss: 5.2101 - val_acc: 0.0000e+00\n",
            "Epoch 15/20\n",
            "9090/9090 [==============================] - 21s 2ms/step - loss: 4.1669 - acc: 0.0881 - val_loss: 4.7325 - val_acc: 0.0000e+00\n",
            "Epoch 16/20\n",
            "9090/9090 [==============================] - 21s 2ms/step - loss: 4.1687 - acc: 0.0890 - val_loss: 5.3536 - val_acc: 0.0000e+00\n",
            "Epoch 17/20\n",
            "9090/9090 [==============================] - 21s 2ms/step - loss: 4.1658 - acc: 0.0857 - val_loss: 4.7643 - val_acc: 0.0000e+00\n",
            "Epoch 18/20\n",
            "9090/9090 [==============================] - 21s 2ms/step - loss: 4.1672 - acc: 0.0873 - val_loss: 5.2453 - val_acc: 0.0000e+00\n",
            "Epoch 19/20\n",
            "9090/9090 [==============================] - 21s 2ms/step - loss: 4.1658 - acc: 0.0877 - val_loss: 5.2339 - val_acc: 0.0000e+00\n",
            "Epoch 20/20\n",
            "9090/9090 [==============================] - 21s 2ms/step - loss: 4.1641 - acc: 0.0839 - val_loss: 5.4462 - val_acc: 0.0000e+00\n"
          ],
          "name": "stdout"
        }
      ]
    },
    {
      "metadata": {
        "id": "VQUaXMmJCZnd",
        "colab_type": "code",
        "outputId": "43b577e2-215d-4146-a7d1-c5e436334961",
        "colab": {
          "base_uri": "https://localhost:8080/",
          "height": 54
        }
      },
      "cell_type": "code",
      "source": [
        "loss,accuracy = pre_trained_model_vgg19.evaluate(x_test,y_test)\n",
        "print('loss {} accuracy {}'.format(loss,accuracy))"
      ],
      "execution_count": 0,
      "outputs": [
        {
          "output_type": "stream",
          "text": [
            "2048/2048 [==============================] - 4s 2ms/step\n",
            "loss 5.446199957281351 accuracy 0.0\n"
          ],
          "name": "stdout"
        }
      ]
    },
    {
      "metadata": {
        "id": "x3gTuhfCCq-2",
        "colab_type": "code",
        "outputId": "5680ae7c-909a-45ac-9c71-36ec6e3a557c",
        "colab": {
          "base_uri": "https://localhost:8080/",
          "height": 295
        }
      },
      "cell_type": "code",
      "source": [
        "import numpy as np\n",
        "import matplotlib.pyplot as plt\n",
        "%matplotlib inline\n",
        "\n",
        "#plot accuracy\n",
        "epochs = np.arange(1,len(history_vgg19.history['acc'])+1)\n",
        "plt.title('Accuracy over training')\n",
        "plt.xlabel('epoch')\n",
        "plt.ylabel('accuracy')\n",
        "plt.plot(epochs,history_vgg19.history['acc'],'r',label='training accuracy')\n",
        "plt.plot(epochs,history_vgg19.history['val_acc'],'b',label='validation accuracy')\n",
        "plt.legend(loc='best')\n",
        "plt.show()"
      ],
      "execution_count": 0,
      "outputs": [
        {
          "output_type": "display_data",
          "data": {
            "image/png": "[encoded data removed]",
            "text/plain": [
              "<Figure size 432x288 with 1 Axes>"
            ]
          },
          "metadata": {
            "tags": []
          }
        }
      ]
    },
    {
      "metadata": {
        "id": "FDAoQ_yqHsKa",
        "colab_type": "code",
        "outputId": "6fd636b4-2315-426d-cf06-809ce525105c",
        "colab": {
          "base_uri": "https://localhost:8080/",
          "height": 398
        }
      },
      "cell_type": "code",
      "source": [
        "# entrenar utilizando el generador de data\n",
        "datagen.fit(x_train)\n",
        "\n",
        "# es necesario especificar el numero de steps cuando se usa un generator (para saber cuando dejar de generar datos en una epoca)\n",
        "batch_size = 32\n",
        "num_samples = x_train.shape[0] * 10\n",
        "\n",
        "# Fit the model on the batches generated by datagen.flow().\n",
        "history_pretrained = pre_trained_model_vgg16.fit_generator(datagen.flow(x_train, y_train,batch_size=batch_size),\n",
        "                            epochs=20,\n",
        "                            validation_data=(x_test, y_test),\n",
        "                            workers=4,\n",
        "                            steps_per_epoch=num_samples//batch_size)# entrenar utilizando el generador de data\n",
        "datagen.fit(x_train)\n",
        "\n",
        "# es necesario especificar el numero de steps cuando se usa un generator (para saber cuando dejar de generar datos en una epoca)\n",
        "batch_size = 32\n",
        "num_samples = x_train.shape[0] * 10\n",
        "\n",
        "# Fit the model on the batches generated by datagen.flow().\n",
        "history_pretrained = pre_trained_model.fit_generator(datagen.flow(x_train, y_train,batch_size=batch_size),\n",
        "                            epochs=20,\n",
        "                            validation_data=(x_test, y_test),\n",
        "                            workers=4,\n",
        "                            steps_per_epoch=num_samples//batch_size)"
      ],
      "execution_count": 0,
      "outputs": [
        {
          "output_type": "error",
          "ename": "ValueError",
          "evalue": "ignored",
          "traceback": [
            "\u001b[0;31m---------------------------------------------------------------------------\u001b[0m",
            "\u001b[0;31mValueError\u001b[0m                                Traceback (most recent call last)",
            "\u001b[0;32m<ipython-input-55-43b80b2d57a6>\u001b[0m in \u001b[0;36m<module>\u001b[0;34m()\u001b[0m\n\u001b[1;32m     10\u001b[0m                             \u001b[0mvalidation_data\u001b[0m\u001b[0;34m=\u001b[0m\u001b[0;34m(\u001b[0m\u001b[0mx_test\u001b[0m\u001b[0;34m,\u001b[0m \u001b[0my_test\u001b[0m\u001b[0;34m)\u001b[0m\u001b[0;34m,\u001b[0m\u001b[0;34m\u001b[0m\u001b[0;34m\u001b[0m\u001b[0m\n\u001b[1;32m     11\u001b[0m                             \u001b[0mworkers\u001b[0m\u001b[0;34m=\u001b[0m\u001b[0;36m4\u001b[0m\u001b[0;34m,\u001b[0m\u001b[0;34m\u001b[0m\u001b[0;34m\u001b[0m\u001b[0m\n\u001b[0;32m---> 12\u001b[0;31m                             steps_per_epoch=num_samples//batch_size)# entrenar utilizando el generador de data\n\u001b[0m\u001b[1;32m     13\u001b[0m \u001b[0mdatagen\u001b[0m\u001b[0;34m.\u001b[0m\u001b[0mfit\u001b[0m\u001b[0;34m(\u001b[0m\u001b[0mx_train\u001b[0m\u001b[0;34m)\u001b[0m\u001b[0;34m\u001b[0m\u001b[0;34m\u001b[0m\u001b[0m\n\u001b[1;32m     14\u001b[0m \u001b[0;34m\u001b[0m\u001b[0m\n",
            "\u001b[0;32m/usr/local/lib/python3.6/dist-packages/keras/legacy/interfaces.py\u001b[0m in \u001b[0;36mwrapper\u001b[0;34m(*args, **kwargs)\u001b[0m\n\u001b[1;32m     89\u001b[0m                 warnings.warn('Update your `' + object_name + '` call to the ' +\n\u001b[1;32m     90\u001b[0m                               'Keras 2 API: ' + signature, stacklevel=2)\n\u001b[0;32m---> 91\u001b[0;31m             \u001b[0;32mreturn\u001b[0m \u001b[0mfunc\u001b[0m\u001b[0;34m(\u001b[0m\u001b[0;34m*\u001b[0m\u001b[0margs\u001b[0m\u001b[0;34m,\u001b[0m \u001b[0;34m**\u001b[0m\u001b[0mkwargs\u001b[0m\u001b[0;34m)\u001b[0m\u001b[0;34m\u001b[0m\u001b[0;34m\u001b[0m\u001b[0m\n\u001b[0m\u001b[1;32m     92\u001b[0m         \u001b[0mwrapper\u001b[0m\u001b[0;34m.\u001b[0m\u001b[0m_original_function\u001b[0m \u001b[0;34m=\u001b[0m \u001b[0mfunc\u001b[0m\u001b[0;34m\u001b[0m\u001b[0;34m\u001b[0m\u001b[0m\n\u001b[1;32m     93\u001b[0m         \u001b[0;32mreturn\u001b[0m \u001b[0mwrapper\u001b[0m\u001b[0;34m\u001b[0m\u001b[0;34m\u001b[0m\u001b[0m\n",
            "\u001b[0;32m/usr/local/lib/python3.6/dist-packages/keras/engine/training.py\u001b[0m in \u001b[0;36mfit_generator\u001b[0;34m(self, generator, steps_per_epoch, epochs, verbose, callbacks, validation_data, validation_steps, class_weight, max_queue_size, workers, use_multiprocessing, shuffle, initial_epoch)\u001b[0m\n\u001b[1;32m   1416\u001b[0m             \u001b[0muse_multiprocessing\u001b[0m\u001b[0;34m=\u001b[0m\u001b[0muse_multiprocessing\u001b[0m\u001b[0;34m,\u001b[0m\u001b[0;34m\u001b[0m\u001b[0;34m\u001b[0m\u001b[0m\n\u001b[1;32m   1417\u001b[0m             \u001b[0mshuffle\u001b[0m\u001b[0;34m=\u001b[0m\u001b[0mshuffle\u001b[0m\u001b[0;34m,\u001b[0m\u001b[0;34m\u001b[0m\u001b[0;34m\u001b[0m\u001b[0m\n\u001b[0;32m-> 1418\u001b[0;31m             initial_epoch=initial_epoch)\n\u001b[0m\u001b[1;32m   1419\u001b[0m \u001b[0;34m\u001b[0m\u001b[0m\n\u001b[1;32m   1420\u001b[0m     \u001b[0;34m@\u001b[0m\u001b[0minterfaces\u001b[0m\u001b[0;34m.\u001b[0m\u001b[0mlegacy_generator_methods_support\u001b[0m\u001b[0;34m\u001b[0m\u001b[0;34m\u001b[0m\u001b[0m\n",
            "\u001b[0;32m/usr/local/lib/python3.6/dist-packages/keras/engine/training_generator.py\u001b[0m in \u001b[0;36mfit_generator\u001b[0;34m(model, generator, steps_per_epoch, epochs, verbose, callbacks, validation_data, validation_steps, class_weight, max_queue_size, workers, use_multiprocessing, shuffle, initial_epoch)\u001b[0m\n\u001b[1;32m    142\u001b[0m                                      str(validation_data))\n\u001b[1;32m    143\u001b[0m                 val_x, val_y, val_sample_weights = model._standardize_user_data(\n\u001b[0;32m--> 144\u001b[0;31m                     val_x, val_y, val_sample_weight)\n\u001b[0m\u001b[1;32m    145\u001b[0m                 \u001b[0mval_data\u001b[0m \u001b[0;34m=\u001b[0m \u001b[0mval_x\u001b[0m \u001b[0;34m+\u001b[0m \u001b[0mval_y\u001b[0m \u001b[0;34m+\u001b[0m \u001b[0mval_sample_weights\u001b[0m\u001b[0;34m\u001b[0m\u001b[0;34m\u001b[0m\u001b[0m\n\u001b[1;32m    146\u001b[0m                 if model.uses_learning_phase and not isinstance(K.learning_phase(),\n",
            "\u001b[0;32m/usr/local/lib/python3.6/dist-packages/keras/engine/training.py\u001b[0m in \u001b[0;36m_standardize_user_data\u001b[0;34m(self, x, y, sample_weight, class_weight, check_array_lengths, batch_size)\u001b[0m\n\u001b[1;32m    749\u001b[0m             \u001b[0mfeed_input_shapes\u001b[0m\u001b[0;34m,\u001b[0m\u001b[0;34m\u001b[0m\u001b[0;34m\u001b[0m\u001b[0m\n\u001b[1;32m    750\u001b[0m             \u001b[0mcheck_batch_axis\u001b[0m\u001b[0;34m=\u001b[0m\u001b[0;32mFalse\u001b[0m\u001b[0;34m,\u001b[0m  \u001b[0;31m# Don't enforce the batch size.\u001b[0m\u001b[0;34m\u001b[0m\u001b[0;34m\u001b[0m\u001b[0m\n\u001b[0;32m--> 751\u001b[0;31m             exception_prefix='input')\n\u001b[0m\u001b[1;32m    752\u001b[0m \u001b[0;34m\u001b[0m\u001b[0m\n\u001b[1;32m    753\u001b[0m         \u001b[0;32mif\u001b[0m \u001b[0my\u001b[0m \u001b[0;32mis\u001b[0m \u001b[0;32mnot\u001b[0m \u001b[0;32mNone\u001b[0m\u001b[0;34m:\u001b[0m\u001b[0;34m\u001b[0m\u001b[0;34m\u001b[0m\u001b[0m\n",
            "\u001b[0;32m/usr/local/lib/python3.6/dist-packages/keras/engine/training_utils.py\u001b[0m in \u001b[0;36mstandardize_input_data\u001b[0;34m(data, names, shapes, check_batch_axis, exception_prefix)\u001b[0m\n\u001b[1;32m    136\u001b[0m                             \u001b[0;34m': expected '\u001b[0m \u001b[0;34m+\u001b[0m \u001b[0mnames\u001b[0m\u001b[0;34m[\u001b[0m\u001b[0mi\u001b[0m\u001b[0;34m]\u001b[0m \u001b[0;34m+\u001b[0m \u001b[0;34m' to have shape '\u001b[0m \u001b[0;34m+\u001b[0m\u001b[0;34m\u001b[0m\u001b[0;34m\u001b[0m\u001b[0m\n\u001b[1;32m    137\u001b[0m                             \u001b[0mstr\u001b[0m\u001b[0;34m(\u001b[0m\u001b[0mshape\u001b[0m\u001b[0;34m)\u001b[0m \u001b[0;34m+\u001b[0m \u001b[0;34m' but got array with shape '\u001b[0m \u001b[0;34m+\u001b[0m\u001b[0;34m\u001b[0m\u001b[0;34m\u001b[0m\u001b[0m\n\u001b[0;32m--> 138\u001b[0;31m                             str(data_shape))\n\u001b[0m\u001b[1;32m    139\u001b[0m     \u001b[0;32mreturn\u001b[0m \u001b[0mdata\u001b[0m\u001b[0;34m\u001b[0m\u001b[0;34m\u001b[0m\u001b[0m\n\u001b[1;32m    140\u001b[0m \u001b[0;34m\u001b[0m\u001b[0m\n",
            "\u001b[0;31mValueError\u001b[0m: Error when checking input: expected vgg16_input to have shape (32, 32, 3) but got array with shape (128, 128, 3)"
          ]
        }
      ]
    },
    {
      "metadata": {
        "id": "QO2204SrL_dY",
        "colab_type": "text"
      },
      "cell_type": "markdown",
      "source": [
        "### Estrategia 2: Entrenar desde cero"
      ]
    },
    {
      "metadata": {
        "id": "17ZjOKJToDOf",
        "colab_type": "code",
        "outputId": "089f6bfe-9412-4ae0-ce9c-a45c44fdbb9b",
        "colab": {
          "base_uri": "https://localhost:8080/",
          "height": 147
        }
      },
      "cell_type": "code",
      "source": [
        "from keras import models\n",
        "from keras import layers\n",
        "\n",
        "red_conv_inicial = models.Sequential()\n",
        "red_conv_inicial.add(layers.Conv2D(32,(3,3),input_shape=(128,128,3),activation='relu'))\n",
        "red_conv_inicial.add(layers.Conv2D(32,(3,3),activation='relu'))\n",
        "red_conv_inicial.add(layers.MaxPooling2D((2,2)))\n",
        "red_conv_inicial.add(layers.Dropout(0.25))\n",
        "red_conv_inicial.add(layers.Conv2D(64,(3,3),activation='relu'))\n",
        "red_conv_inicial.add(layers.Conv2D(64,(3,3),activation='relu'))\n",
        "red_conv_inicial.add(layers.MaxPooling2D((2,2)))\n",
        "red_conv_inicial.add(layers.Flatten())\n",
        "red_conv_inicial.add(layers.Dropout(0.25))\n",
        "red_conv_inicial.add(layers.Dense(512,activation='relu'))\n",
        "#red_conv_inicial.add(layers.Dropout(0.5)) #Este parametro no permite aprender\n",
        "red_conv_inicial.add(layers.Dense(number_of_classes,activation='softmax'))"
      ],
      "execution_count": 9,
      "outputs": [
        {
          "output_type": "stream",
          "text": [
            "WARNING:tensorflow:From /usr/local/lib/python3.6/dist-packages/tensorflow/python/framework/op_def_library.py:263: colocate_with (from tensorflow.python.framework.ops) is deprecated and will be removed in a future version.\n",
            "Instructions for updating:\n",
            "Colocations handled automatically by placer.\n",
            "WARNING:tensorflow:From /usr/local/lib/python3.6/dist-packages/keras/backend/tensorflow_backend.py:3445: calling dropout (from tensorflow.python.ops.nn_ops) with keep_prob is deprecated and will be removed in a future version.\n",
            "Instructions for updating:\n",
            "Please use `rate` instead of `keep_prob`. Rate should be set to `rate = 1 - keep_prob`.\n"
          ],
          "name": "stdout"
        }
      ]
    },
    {
      "metadata": {
        "id": "dOymA31O2oao",
        "colab_type": "code",
        "outputId": "d5bb834b-7bd1-4d1c-c2e7-1a69646d375d",
        "colab": {
          "base_uri": "https://localhost:8080/",
          "height": 550
        }
      },
      "cell_type": "code",
      "source": [
        "red_conv_inicial.summary()"
      ],
      "execution_count": 10,
      "outputs": [
        {
          "output_type": "stream",
          "text": [
            "_________________________________________________________________\n",
            "Layer (type)                 Output Shape              Param #   \n",
            "=================================================================\n",
            "conv2d_1 (Conv2D)            (None, 126, 126, 32)      896       \n",
            "_________________________________________________________________\n",
            "conv2d_2 (Conv2D)            (None, 124, 124, 32)      9248      \n",
            "_________________________________________________________________\n",
            "max_pooling2d_1 (MaxPooling2 (None, 62, 62, 32)        0         \n",
            "_________________________________________________________________\n",
            "dropout_1 (Dropout)          (None, 62, 62, 32)        0         \n",
            "_________________________________________________________________\n",
            "conv2d_3 (Conv2D)            (None, 60, 60, 64)        18496     \n",
            "_________________________________________________________________\n",
            "conv2d_4 (Conv2D)            (None, 58, 58, 64)        36928     \n",
            "_________________________________________________________________\n",
            "max_pooling2d_2 (MaxPooling2 (None, 29, 29, 64)        0         \n",
            "_________________________________________________________________\n",
            "flatten_1 (Flatten)          (None, 53824)             0         \n",
            "_________________________________________________________________\n",
            "dropout_2 (Dropout)          (None, 53824)             0         \n",
            "_________________________________________________________________\n",
            "dense_1 (Dense)              (None, 512)               27558400  \n",
            "_________________________________________________________________\n",
            "dense_2 (Dense)              (None, 102)               52326     \n",
            "=================================================================\n",
            "Total params: 27,676,294\n",
            "Trainable params: 27,676,294\n",
            "Non-trainable params: 0\n",
            "_________________________________________________________________\n"
          ],
          "name": "stdout"
        }
      ]
    },
    {
      "metadata": {
        "id": "-uxe9QQD3A2k",
        "colab_type": "code",
        "colab": {}
      },
      "cell_type": "code",
      "source": [
        "# compilar el modelo\n",
        "red_conv_inicial.compile(optimizer='rmsprop',\n",
        "               loss='categorical_crossentropy',\n",
        "               metrics=['accuracy'])"
      ],
      "execution_count": 0,
      "outputs": []
    },
    {
      "metadata": {
        "id": "tB9aq3sy3LGS",
        "colab_type": "code",
        "outputId": "e3a3eed0-7327-49b7-9fce-af6c90726c6a",
        "colab": {
          "base_uri": "https://localhost:8080/",
          "height": 825
        }
      },
      "cell_type": "code",
      "source": [
        "nueva_red = red_conv_inicial.fit(x_train,y_train,epochs=20,batch_size=64,validation_data=(x_test,y_test))"
      ],
      "execution_count": 12,
      "outputs": [
        {
          "output_type": "stream",
          "text": [
            "WARNING:tensorflow:From /usr/local/lib/python3.6/dist-packages/tensorflow/python/ops/math_ops.py:3066: to_int32 (from tensorflow.python.ops.math_ops) is deprecated and will be removed in a future version.\n",
            "Instructions for updating:\n",
            "Use tf.cast instead.\n",
            "Train on 5090 samples, validate on 2048 samples\n",
            "Epoch 1/20\n",
            "5090/5090 [==============================] - 15s 3ms/step - loss: 3.9227 - acc: 0.1473 - val_loss: 4.8289 - val_acc: 0.0000e+00\n",
            "Epoch 2/20\n",
            "5090/5090 [==============================] - 8s 2ms/step - loss: 3.7981 - acc: 0.1568 - val_loss: 4.4288 - val_acc: 0.0000e+00\n",
            "Epoch 3/20\n",
            "5090/5090 [==============================] - 8s 2ms/step - loss: 3.7522 - acc: 0.1658 - val_loss: 4.9114 - val_acc: 0.0000e+00\n",
            "Epoch 4/20\n",
            "5090/5090 [==============================] - 8s 2ms/step - loss: 3.0949 - acc: 0.2896 - val_loss: 3.7462 - val_acc: 0.1050\n",
            "Epoch 5/20\n",
            "5090/5090 [==============================] - 8s 2ms/step - loss: 2.6569 - acc: 0.3735 - val_loss: 3.3803 - val_acc: 0.2002\n",
            "Epoch 6/20\n",
            "5090/5090 [==============================] - 8s 2ms/step - loss: 2.3916 - acc: 0.4253 - val_loss: 2.9867 - val_acc: 0.2983\n",
            "Epoch 7/20\n",
            "5090/5090 [==============================] - 8s 2ms/step - loss: 2.1609 - acc: 0.4733 - val_loss: 2.5883 - val_acc: 0.3750\n",
            "Epoch 8/20\n",
            "5090/5090 [==============================] - 8s 2ms/step - loss: 1.8952 - acc: 0.5265 - val_loss: 2.5799 - val_acc: 0.3833\n",
            "Epoch 9/20\n",
            "5090/5090 [==============================] - 8s 2ms/step - loss: 1.5940 - acc: 0.5990 - val_loss: 1.7239 - val_acc: 0.5757\n",
            "Epoch 10/20\n",
            "5090/5090 [==============================] - 8s 2ms/step - loss: 1.2447 - acc: 0.6768 - val_loss: 1.6050 - val_acc: 0.6016\n",
            "Epoch 11/20\n",
            "5090/5090 [==============================] - 8s 2ms/step - loss: 0.9255 - acc: 0.7558 - val_loss: 0.8988 - val_acc: 0.7949\n",
            "Epoch 12/20\n",
            "5090/5090 [==============================] - 8s 2ms/step - loss: 0.6284 - acc: 0.8279 - val_loss: 0.6793 - val_acc: 0.8711\n",
            "Epoch 13/20\n",
            "5090/5090 [==============================] - 8s 2ms/step - loss: 0.3919 - acc: 0.8888 - val_loss: 0.5129 - val_acc: 0.9146\n",
            "Epoch 14/20\n",
            "5090/5090 [==============================] - 8s 2ms/step - loss: 0.2669 - acc: 0.9259 - val_loss: 0.6509 - val_acc: 0.8828\n",
            "Epoch 15/20\n",
            "5090/5090 [==============================] - 8s 2ms/step - loss: 0.1813 - acc: 0.9468 - val_loss: 0.3918 - val_acc: 0.9497\n",
            "Epoch 16/20\n",
            "5090/5090 [==============================] - 8s 2ms/step - loss: 0.1443 - acc: 0.9576 - val_loss: 0.4429 - val_acc: 0.9268\n",
            "Epoch 17/20\n",
            "5090/5090 [==============================] - 8s 2ms/step - loss: 0.1027 - acc: 0.9725 - val_loss: 0.3303 - val_acc: 0.9717\n",
            "Epoch 18/20\n",
            "5090/5090 [==============================] - 8s 2ms/step - loss: 0.0875 - acc: 0.9750 - val_loss: 0.3154 - val_acc: 0.9702\n",
            "Epoch 19/20\n",
            "5090/5090 [==============================] - 8s 2ms/step - loss: 0.0831 - acc: 0.9737 - val_loss: 0.3512 - val_acc: 0.9595\n",
            "Epoch 20/20\n",
            "5090/5090 [==============================] - 8s 2ms/step - loss: 0.0613 - acc: 0.9827 - val_loss: 0.3217 - val_acc: 0.9678\n"
          ],
          "name": "stdout"
        }
      ]
    },
    {
      "metadata": {
        "id": "xeoqvJqxg6qp",
        "colab_type": "code",
        "outputId": "6647fdb9-4e65-4a4a-cd33-4234479755d1",
        "colab": {
          "base_uri": "https://localhost:8080/",
          "height": 54
        }
      },
      "cell_type": "code",
      "source": [
        "loss,accuracy = red_conv_inicial.evaluate(x_test,y_test)\n",
        "print('loss {} accuracy {}'.format(loss,accuracy))"
      ],
      "execution_count": 13,
      "outputs": [
        {
          "output_type": "stream",
          "text": [
            "2048/2048 [==============================] - 1s 566us/step\n",
            "loss 0.3216954290535341 accuracy 0.9677734375\n"
          ],
          "name": "stdout"
        }
      ]
    },
    {
      "metadata": {
        "id": "JCLJz37NhFa_",
        "colab_type": "code",
        "outputId": "b7203f92-594c-4a1c-9742-2c421826b499",
        "colab": {
          "base_uri": "https://localhost:8080/",
          "height": 295
        }
      },
      "cell_type": "code",
      "source": [
        "import numpy as np\n",
        "import matplotlib.pyplot as plt\n",
        "%matplotlib inline\n",
        "\n",
        "#plot accuracy\n",
        "epochs = np.arange(1,len(nueva_red.history['acc'])+1)\n",
        "plt.title('Accuracy over training')\n",
        "plt.xlabel('epoch')\n",
        "plt.ylabel('accuracy')\n",
        "plt.plot(epochs,nueva_red.history['acc'],'r',label='training accuracy')\n",
        "plt.plot(epochs,nueva_red.history['val_acc'],'b',label='validation accuracy')\n",
        "plt.legend(loc='best')\n",
        "plt.show()"
      ],
      "execution_count": 14,
      "outputs": [
        {
          "output_type": "display_data",
          "data": {
            "image/png": "[encoded data removed]",
            "text/plain": [
              "<Figure size 432x288 with 1 Axes>"
            ]
          },
          "metadata": {
            "tags": []
          }
        }
      ]
    },
    {
      "metadata": {
        "id": "l8vbRSfVwLLn",
        "colab_type": "text"
      },
      "cell_type": "markdown",
      "source": [
        "Data augmentation"
      ]
    },
    {
      "metadata": {
        "id": "jmI5xWVWkhX6",
        "colab_type": "code",
        "colab": {}
      },
      "cell_type": "code",
      "source": [
        "from keras.preprocessing.image import ImageDataGenerator\n",
        "\n",
        "datagen = ImageDataGenerator(\n",
        "    rotation_range=10, # grados de rotacion aleatoria\n",
        "    width_shift_range=0.1, # fraccion del total (1) para mover la imagen\n",
        "    height_shift_range=0.1, # fraccion del total (1) para mover la imagen\n",
        "    shear_range=0, # deslizamiento\n",
        "    zoom_range=0.1, # rango de zoom\n",
        "    horizontal_flip=True, # girar las imagenes horizontalmente (eje vertical)\n",
        "    fill_mode='nearest', # como rellenar posibles nuevos pixeles\n",
        "    channel_shift_range=0.2 # cambios aleatorios en los canales de la imagen\n",
        ")"
      ],
      "execution_count": 0,
      "outputs": []
    },
    {
      "metadata": {
        "id": "dKNCM4rlxAky",
        "colab_type": "code",
        "outputId": "1ae60ae2-2967-4621-9b07-8abca70179e2",
        "colab": {
          "base_uri": "https://localhost:8080/",
          "height": 752
        }
      },
      "cell_type": "code",
      "source": [
        "# entrenar utilizando el generador de data\n",
        "datagen.fit(x_train)\n",
        "\n",
        "# es necesario especificar el numero de steps cuando se usa un generator (para saber cuando dejar de generar datos en una epoca)\n",
        "batch_size = 32\n",
        "num_samples = x_train.shape[0] * 10\n",
        "\n",
        "# Fit the model on the batches generated by datagen.flow().\n",
        "history_nueva_red = red_conv_inicial.fit_generator(datagen.flow(x_train, y_train,batch_size=batch_size),\n",
        "                            epochs=20,\n",
        "                            validation_data=(x_test, y_test),\n",
        "                            workers=4,\n",
        "                            steps_per_epoch=num_samples//batch_size)"
      ],
      "execution_count": 16,
      "outputs": [
        {
          "output_type": "stream",
          "text": [
            "Epoch 1/20\n",
            "1590/1590 [==============================] - 163s 102ms/step - loss: 3.8025 - acc: 0.1535 - val_loss: 4.4043 - val_acc: 0.0000e+00\n",
            "Epoch 2/20\n",
            "1590/1590 [==============================] - 162s 102ms/step - loss: 3.7590 - acc: 0.1568 - val_loss: 4.4001 - val_acc: 0.0000e+00\n",
            "Epoch 3/20\n",
            "1590/1590 [==============================] - 162s 102ms/step - loss: 3.7573 - acc: 0.1569 - val_loss: 4.4583 - val_acc: 0.0000e+00\n",
            "Epoch 4/20\n",
            "1590/1590 [==============================] - 161s 101ms/step - loss: 3.7567 - acc: 0.1568 - val_loss: 4.4499 - val_acc: 0.0000e+00\n",
            "Epoch 5/20\n",
            "1590/1590 [==============================] - 161s 101ms/step - loss: 3.7534 - acc: 0.1578 - val_loss: 4.4301 - val_acc: 0.0000e+00\n",
            "Epoch 6/20\n",
            "1590/1590 [==============================] - 162s 102ms/step - loss: 3.7561 - acc: 0.1568 - val_loss: 4.4415 - val_acc: 0.0000e+00\n",
            "Epoch 7/20\n",
            "1590/1590 [==============================] - 161s 102ms/step - loss: 3.7544 - acc: 0.1571 - val_loss: 4.4348 - val_acc: 0.0000e+00\n",
            "Epoch 8/20\n",
            "1590/1590 [==============================] - 162s 102ms/step - loss: 3.7544 - acc: 0.1572 - val_loss: 4.3905 - val_acc: 0.0000e+00\n",
            "Epoch 9/20\n",
            "1590/1590 [==============================] - 161s 101ms/step - loss: 3.7554 - acc: 0.1572 - val_loss: 4.4519 - val_acc: 0.0000e+00\n",
            "Epoch 10/20\n",
            "1590/1590 [==============================] - 164s 103ms/step - loss: 3.7564 - acc: 0.1561 - val_loss: 4.4431 - val_acc: 0.0000e+00\n",
            "Epoch 11/20\n",
            "1590/1590 [==============================] - 162s 102ms/step - loss: 3.7564 - acc: 0.1564 - val_loss: 4.4350 - val_acc: 0.0000e+00\n",
            "Epoch 12/20\n",
            "1590/1590 [==============================] - 163s 102ms/step - loss: 3.7542 - acc: 0.1568 - val_loss: 4.4204 - val_acc: 0.0000e+00\n",
            "Epoch 13/20\n",
            "1590/1590 [==============================] - 160s 101ms/step - loss: 3.7562 - acc: 0.1565 - val_loss: 4.4328 - val_acc: 0.0000e+00\n",
            "Epoch 14/20\n",
            "1590/1590 [==============================] - 161s 101ms/step - loss: 3.7565 - acc: 0.1562 - val_loss: 4.4191 - val_acc: 0.0000e+00\n",
            "Epoch 15/20\n",
            "1590/1590 [==============================] - 161s 101ms/step - loss: 3.7541 - acc: 0.1571 - val_loss: 4.3837 - val_acc: 0.0000e+00\n",
            "Epoch 16/20\n",
            "1590/1590 [==============================] - 164s 103ms/step - loss: 3.7534 - acc: 0.1570 - val_loss: 4.4209 - val_acc: 0.0000e+00\n",
            "Epoch 17/20\n",
            "1590/1590 [==============================] - 161s 101ms/step - loss: 3.7556 - acc: 0.1563 - val_loss: 4.4270 - val_acc: 0.0000e+00\n",
            "Epoch 18/20\n",
            "1590/1590 [==============================] - 162s 102ms/step - loss: 3.7539 - acc: 0.1570 - val_loss: 4.4155 - val_acc: 0.0000e+00\n",
            "Epoch 19/20\n",
            "1590/1590 [==============================] - 162s 102ms/step - loss: 3.7539 - acc: 0.1563 - val_loss: 4.4217 - val_acc: 0.0000e+00\n",
            "Epoch 20/20\n",
            "1590/1590 [==============================] - 161s 101ms/step - loss: 3.7532 - acc: 0.1570 - val_loss: 4.4228 - val_acc: 0.0000e+00\n"
          ],
          "name": "stdout"
        }
      ]
    },
    {
      "metadata": {
        "id": "Kjx2zCC2yaDQ",
        "colab_type": "code",
        "colab": {
          "base_uri": "https://localhost:8080/",
          "height": 295
        },
        "outputId": "659a945a-af6c-4718-fb17-ff4c920a622d"
      },
      "cell_type": "code",
      "source": [
        "import numpy as np\n",
        "import matplotlib.pyplot as plt\n",
        "\n",
        "#plot accuracy\n",
        "epochs = np.arange(1,len(history_nueva_red.history['acc'])+1)\n",
        "plt.title('Modelo: Nueva Red con aumento de datos')\n",
        "plt.xlabel('epoch')\n",
        "plt.ylabel('accuracy')\n",
        "plt.plot(epochs,history_nueva_red.history['acc'],'r',label='training accuracy')\n",
        "plt.plot(epochs,history_nueva_red.history['val_acc'],'b',label='validation accuracy')\n",
        "plt.legend(loc='best')\n",
        "plt.show()"
      ],
      "execution_count": 17,
      "outputs": [
        {
          "output_type": "display_data",
          "data": {
            "image/png": "[encoded data removed]",
            "text/plain": [
              "<Figure size 432x288 with 1 Axes>"
            ]
          },
          "metadata": {
            "tags": []
          }
        }
      ]
    }
  ]
}
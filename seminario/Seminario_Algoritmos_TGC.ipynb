{
  "nbformat": 4,
  "nbformat_minor": 0,
  "metadata": {
    "colab": {
      "name": "Seminario - Algoritmos TGC.ipynb",
      "version": "0.3.2",
      "provenance": [],
      "collapsed_sections": [],
      "include_colab_link": true
    },
    "kernelspec": {
      "name": "python3",
      "display_name": "Python 3"
    }
  },
  "cells": [
    {
      "cell_type": "markdown",
      "metadata": {
        "id": "view-in-github",
        "colab_type": "text"
      },
      "source": [
        "<a href=\"https://colab.research.google.com/github/tguerreroco/03MAIR---Algoritmos-de-Optimizacion---2019/blob/master/seminario/Seminario_Algoritmos_TGC.ipynb\" target=\"_parent\"><img src=\"https://colab.research.google.com/assets/colab-badge.svg\" alt=\"Open In Colab\"/></a>"
      ]
    },
    {
      "metadata": {
        "id": "hVbXYX-RfPWh",
        "colab_type": "text"
      },
      "cell_type": "markdown",
      "source": [
        "# Algoritmos de optimización - Seminario<br>\n",
        "Nombre y Apellidos:  <b>Tomás Guerrero Cortés </b><br>\n",
        "Url: https://github.com/.../03MAIR---Algoritmos-de-Optimizacion---2019/tree/master/SEMINARIO<br>\n",
        "Problema:\n",
        "\n",
        "><b>2. Organizar los horarios de partidos de La Liga</b><br>\n",
        "\n",
        "\n",
        "Descripción del problema:(copiar enunciado)\n",
        "\n",
        "....\n",
        "\n",
        "(*) La respuesta es obligatoria\n",
        "\n",
        "\n",
        "\n",
        "\n",
        "\n",
        "                                        "
      ]
    },
    {
      "metadata": {
        "id": "3_-exlrTgLd-",
        "colab_type": "text"
      },
      "cell_type": "markdown",
      "source": [
        "(*)¿Cuantas posibilidades hay sin tener en cuenta las restricciones?<br>\n",
        "\n",
        "¿Cuantas posibilidades hay teniendo en cuenta todas las restricciones.\n"
      ]
    },
    {
      "metadata": {
        "id": "WfCUqJyKhPcw",
        "colab_type": "text"
      },
      "cell_type": "markdown",
      "source": [
        "Respuesta"
      ]
    },
    {
      "metadata": {
        "id": "PlxKWbANojyE",
        "colab_type": "text"
      },
      "cell_type": "markdown",
      "source": [
        "Sin tener en cuenta las restricciones<br>\n",
        "Para obtener una jornada son combinaciones de 20 equipos tomados de dos en dos: <b>190</b><br>\n",
        "Si consideramos local y visitantes son<b> 2 * 190 = 380</b>.<br>\n",
        "Teniendo en cuenta  todas las restricciones<br>\n",
        "Diez horarios para  acomodar las 190 combinaciones de juegos (El horario va asociado al ingreso por juego)\n",
        "<b>10 x 190 = 1,900</b>"
      ]
    },
    {
      "metadata": {
        "id": "0EpUmzLWo4A8",
        "colab_type": "code",
        "colab": {}
      },
      "cell_type": "code",
      "source": [
        ""
      ],
      "execution_count": 0,
      "outputs": []
    },
    {
      "metadata": {
        "id": "dzynfVJahHoY",
        "colab_type": "text"
      },
      "cell_type": "markdown",
      "source": [
        "Modelo para el espacio de soluciones<br>\n",
        "(*) ¿Cual es la estructura de datos que mejor se adapta al problema? Argumentalo.(Es posible que hayas elegido una al principio y veas la necesidad de cambiar, arguentalo)\n"
      ]
    },
    {
      "metadata": {
        "id": "xFIJrOwKi2Ti",
        "colab_type": "text"
      },
      "cell_type": "markdown",
      "source": [
        "<b>Equipos. </b>El id de equipo ordenado de mayor a menor en órden de importancia del equipo <br>\n",
        "Equipos (id_equipo, Tipo de equipo, 'Nombre de equipo')<br><br>\n",
        "<b>Horarios. </b>El id de horario, ordenado de mayor a menor de acuerdo a la ganancia <br>\n",
        "Horarios (id_horario,Dia,hora,Ganancia en millones de pesos)<br><br>\n",
        "<b>Jornada.</b> Con  los diez juegos de una jornada<br>\n",
        "(id_equipo_local, id_equipo_visitante)<br><br>\n",
        "<b>Jornada_Horario. </b> Asigna un horario al juego para el rol de juegos de una jornada<br>\n",
        "(id_horario, equipo_local, equipo_visitante)  <br><br>\n",
        "<b>Jornada_Horario. </b> (Calendario completo) Asigna semana,  horario al juego para el rol de juegos de una jornada, para todas las jornadas<br>\n",
        "(id_jornada, id_horario, equipo_local, equipo_visitante)  \n"
      ]
    },
    {
      "metadata": {
        "id": "38c-7-ejhJmA",
        "colab_type": "code",
        "colab": {}
      },
      "cell_type": "code",
      "source": [
        "Equipos=((1,'A','A1'), (2,'A','A2'), (3,'A','A3'),(4,'A','A4'),(5,'B','B1'),(6,'B','B2'),(7,'B','B3'),(8,'B','B4'),(9,'B','B5'),(10,'B','B6'),(11,'B','B7'),(12,'B','B8'),(13,'B','B9'),(14,'B','B10'),(15,'C','C1'),(16,'C','C2'),(17,'C','C3'),(18,'C','C4'),(19,'C','C5'),(20,'C','C6'))\n",
        "Horarios=((1,'Sábado','20h', 1),(2,'Domingo','20h', 1),(3,'Domingo','18h', .85),(4,'Sábadoo','18h', .8),(5,'Domingo','16h', .75),(6,'Sábado','16h', .7),(7,'Sábado','12h', .55),(8,'Domingo','12h', .45),(9,'Viernes','20h', .4),(10,'Lunes','20h', .4))\n",
        "Jornada=[(14, 7), (8, 13), (9, 12), (10, 11), (20, 1), (19, 2), (3, 18), (17, 4), (16, 5), (15, 6)]"
      ],
      "execution_count": 0,
      "outputs": []
    },
    {
      "metadata": {
        "id": "7Z9U2W7bi-XS",
        "colab_type": "text"
      },
      "cell_type": "markdown",
      "source": [
        "Según el modelo para el espacio de soluciones<br>\n",
        "(*)¿Cual es la función objetivo? \n",
        "\n",
        "(*)¿Es un problema de maximización o minimización? <b> "
      ]
    },
    {
      "metadata": {
        "id": "gJlv_GkL_shp",
        "colab_type": "code",
        "colab": {}
      },
      "cell_type": "code",
      "source": [
        ""
      ],
      "execution_count": 0,
      "outputs": []
    },
    {
      "metadata": {
        "id": "hBalWLM7j1_d",
        "colab_type": "text"
      },
      "cell_type": "markdown",
      "source": [
        "Respuesta<br>\n",
        "<b> Maximizar la ganancia en cada jornada</b><br>\n",
        "<b>Es un problema de maximización (maximización de la ganancia)</b><br>"
      ]
    },
    {
      "metadata": {
        "id": "7tzxwBJWs17m",
        "colab_type": "code",
        "outputId": "554f53ff-41eb-4b09-8335-f5acc862ace7",
        "colab": {
          "base_uri": "https://localhost:8080/",
          "height": 35
        }
      },
      "cell_type": "code",
      "source": [
        "#Define función para obtener el costo de una jornada\n",
        "def calcula_costo_juego(juego,Horarios):\n",
        "   #Determina el valor del juego de acuerdo a los equipos A <5, B < 13, C <=20\n",
        "   equipos=juego[1]\n",
        "   equipo1=equipos[0]\n",
        "   equipo2=equipos[1]\n",
        "   if equipo1 < 5 and equipo2 <5:\n",
        "      factor_equipos=2\n",
        "   elif (equipo1 < 5 and equipo2 <13) or (equipo1 < 13 and equipo2 <5):\n",
        "      factor_equipos=1.3\n",
        "   elif (equipo1 < 5 or equipo2 <5):\n",
        "      factor_equipos=1\n",
        "   elif (equipo1 < 13 and equipo2 <13):\n",
        "      factor_equipos=.9\n",
        "   elif (equipo1 < 13 or equipo2 <13):\n",
        "      factor_equipos=.75\n",
        "   else:\n",
        "      factor_equipos=.47\n",
        "   #Determina el valor del juego de acuerdo al horario\n",
        "   horario=juego[0]\n",
        "   factor_horario=Horarios[horario][3]\n",
        "   return factor_equipos * factor_horario\n",
        "\n",
        "#Calcula el costo de la Jornada\n",
        "def calcula_costo_jornada(jornada_horario):\n",
        "  costo=0\n",
        "  for juego in jornada_horario:\n",
        "     costo=costo+calcula_costo_juego(juego,Horarios) \n",
        "  print(\"Costo de la Jornada\")\n",
        "  print(\"Total de juegos: 10\")\n",
        "  print(\"Costo total de la jornada: \"+str(costo))\n",
        "  print(\"Promedio X juego de la jornada: \"+str(costo/10))\n",
        "  return\n",
        "calcula_costo_jornada"
      ],
      "execution_count": 35,
      "outputs": [
        {
          "output_type": "execute_result",
          "data": {
            "text/plain": [
              "<function __main__.calcula_costo_jornada>"
            ]
          },
          "metadata": {
            "tags": []
          },
          "execution_count": 35
        }
      ]
    },
    {
      "metadata": {
        "id": "rlnTYgY1j6I2",
        "colab_type": "text"
      },
      "cell_type": "markdown",
      "source": [
        "Diseña un algoritmo para resolver el problema por fuerza bruta"
      ]
    },
    {
      "metadata": {
        "id": "70rDgxYXkC8r",
        "colab_type": "text"
      },
      "cell_type": "markdown",
      "source": [
        "Respuesta"
      ]
    },
    {
      "metadata": {
        "id": "CJb5sQ0qkENy",
        "colab_type": "code",
        "outputId": "8d28827d-be4e-4f93-f23d-7f24e1296004",
        "colab": {
          "base_uri": "https://localhost:8080/",
          "height": 109
        }
      },
      "cell_type": "code",
      "source": [
        "#Metodo Fuerza Bruta\n",
        "#Asigna horarios \n",
        "#Jornada, Horario, Juego\n",
        "#Asigna horarios en orden \n",
        "def asigna_horarios(jornada):\n",
        "   i=0\n",
        "   jornada_horario=[]\n",
        "   for juego in jornada:\n",
        "       jornada_horario.append((i,juego))\n",
        "       i+=1  \n",
        "   return jornada_horario\n",
        "\n",
        "jornada_horario=asigna_horarios(Jornada)\n",
        "print(jornada_horario)\n",
        "\n",
        "\n",
        "calcula_costo_jornada(jornada_horario)"
      ],
      "execution_count": 36,
      "outputs": [
        {
          "output_type": "stream",
          "text": [
            "[(0, (14, 7)), (1, (8, 13)), (2, (9, 12)), (3, (10, 11)), (4, (20, 1)), (5, (19, 2)), (6, (3, 18)), (7, (17, 4)), (8, (16, 5)), (9, (15, 6))]\n",
            "Costo de la Jornada\n",
            "Total de juegos: 10\n",
            "Costo total de la jornada: 6.035\n",
            "Promedio X juego de la jornada: 0.6035\n"
          ],
          "name": "stdout"
        }
      ]
    },
    {
      "metadata": {
        "id": "tgrnsC2nkFa8",
        "colab_type": "text"
      },
      "cell_type": "markdown",
      "source": [
        "Calcula la complejidad del algoritmo por fuerza bruta"
      ]
    },
    {
      "metadata": {
        "id": "9eUd3xwckP68",
        "colab_type": "text"
      },
      "cell_type": "markdown",
      "source": [
        "Respuesta<br>\n",
        "<b>n , lineal</b><br>\n"
      ]
    },
    {
      "metadata": {
        "id": "rvZWwL-ckRST",
        "colab_type": "code",
        "outputId": "688ef5b9-2399-48f3-a3c6-24f68d298705",
        "colab": {
          "base_uri": "https://localhost:8080/",
          "height": 1046
        }
      },
      "cell_type": "code",
      "source": [
        "#Manejo de Coincidencia de Horarios\n",
        "#Calcula el costo de un juego que coincide contra manejarlo por separado\n",
        "def calcula_costo_coincide(juego):\n",
        "    equipos=juego[1]\n",
        "    equipo1=equipos[0]\n",
        "    equipo2=equipos[1]\n",
        "    if equipo1 < 5 :\n",
        "      p_equipo1=4\n",
        "    elif (equipo1 < 13) :\n",
        "      p_equipo1=2\n",
        "    else:\n",
        "      p_equipo1=1\n",
        "    if equipo2 < 5 :\n",
        "      p_equipo2=4\n",
        "    elif (equipo2 < 13) :\n",
        "      p_equipo2=2\n",
        "    else:\n",
        "      p_equipo2=1\n",
        "    return p_equipo1+p_equipo2\n",
        "#Calcula si mejora 2 juegos con coincidencia de horarios  \n",
        "def encuentra_mejora(juego1,juego2):\n",
        "    costo=calcula_costo_juego(juego1,Horarios)+calcula_costo_juego(juego2,Horarios)\n",
        "    p_juego1=calcula_costo_coincide(juego1)\n",
        "    p_juego2=calcula_costo_coincide(juego2)\n",
        "    total=p_juego1+p_juego2\n",
        "    #Determina el valor del juego de acuerdo al horario\n",
        "    horario1=juego1[0]\n",
        "    horario2=juego2[0]\n",
        "    #Mejor horario\n",
        "    if horario1 < horario2:\n",
        "       horario=horario1\n",
        "    else:\n",
        "       horario=horario2\n",
        "    factor_horario=Horarios[horario][3]\n",
        "    costo1=(p_juego1/total)*factor_horario\n",
        "    costo2=(p_juego2/total)*factor_horario\n",
        "    costo2=costo1+costo2\n",
        "    if costo < costo2:\n",
        "       coincide=True\n",
        "       print(\"Si mejora (coincidencia de horarios):\"+str(costo2-costo))\n",
        "    else:\n",
        "       coincide=False\n",
        "       print(\"No mejora (coincidencia de horarios):\"+str(costo-costo2))\n",
        "    return\n",
        "#Revisa Mejora con Fuerza Bruta (Complejidad n**2+c)\n",
        "p_juego1=calcula_costo_coincide(juego1)\n",
        "encuentra_mejora(juego1,juego2)\n",
        "i=0\n",
        "for juego in jornada_horario:\n",
        "   i+=1\n",
        "   print(\"Juego1\"+str(juego[1]))\n",
        "   for juego2 in jornada_horario[i:]:\n",
        "       encuentra_mejora(juego1,juego2)"
      ],
      "execution_count": 37,
      "outputs": [
        {
          "output_type": "stream",
          "text": [
            "No mejora (coincidencia de horarios):0.050000000000000044\n",
            "Juego1(14, 7)\n",
            "No mejora (coincidencia de horarios):0.5\n",
            "No mejora (coincidencia de horarios):0.5150000000000001\n",
            "No mejora (coincidencia de horarios):0.4700000000000002\n",
            "No mejora (coincidencia de horarios):0.5\n",
            "No mejora (coincidencia de horarios):0.44999999999999996\n",
            "No mejora (coincidencia de horarios):0.30000000000000004\n",
            "No mejora (coincidencia de horarios):0.19999999999999996\n",
            "No mejora (coincidencia de horarios):0.050000000000000044\n",
            "No mejora (coincidencia de horarios):0.050000000000000044\n",
            "Juego1(8, 13)\n",
            "No mejora (coincidencia de horarios):0.5150000000000001\n",
            "No mejora (coincidencia de horarios):0.4700000000000002\n",
            "No mejora (coincidencia de horarios):0.5\n",
            "No mejora (coincidencia de horarios):0.44999999999999996\n",
            "No mejora (coincidencia de horarios):0.30000000000000004\n",
            "No mejora (coincidencia de horarios):0.19999999999999996\n",
            "No mejora (coincidencia de horarios):0.050000000000000044\n",
            "No mejora (coincidencia de horarios):0.050000000000000044\n",
            "Juego1(9, 12)\n",
            "No mejora (coincidencia de horarios):0.4700000000000002\n",
            "No mejora (coincidencia de horarios):0.5\n",
            "No mejora (coincidencia de horarios):0.44999999999999996\n",
            "No mejora (coincidencia de horarios):0.30000000000000004\n",
            "No mejora (coincidencia de horarios):0.19999999999999996\n",
            "No mejora (coincidencia de horarios):0.050000000000000044\n",
            "No mejora (coincidencia de horarios):0.050000000000000044\n",
            "Juego1(10, 11)\n",
            "No mejora (coincidencia de horarios):0.5\n",
            "No mejora (coincidencia de horarios):0.44999999999999996\n",
            "No mejora (coincidencia de horarios):0.30000000000000004\n",
            "No mejora (coincidencia de horarios):0.19999999999999996\n",
            "No mejora (coincidencia de horarios):0.050000000000000044\n",
            "No mejora (coincidencia de horarios):0.050000000000000044\n",
            "Juego1(20, 1)\n",
            "No mejora (coincidencia de horarios):0.44999999999999996\n",
            "No mejora (coincidencia de horarios):0.30000000000000004\n",
            "No mejora (coincidencia de horarios):0.19999999999999996\n",
            "No mejora (coincidencia de horarios):0.050000000000000044\n",
            "No mejora (coincidencia de horarios):0.050000000000000044\n",
            "Juego1(19, 2)\n",
            "No mejora (coincidencia de horarios):0.30000000000000004\n",
            "No mejora (coincidencia de horarios):0.19999999999999996\n",
            "No mejora (coincidencia de horarios):0.050000000000000044\n",
            "No mejora (coincidencia de horarios):0.050000000000000044\n",
            "Juego1(3, 18)\n",
            "No mejora (coincidencia de horarios):0.19999999999999996\n",
            "No mejora (coincidencia de horarios):0.050000000000000044\n",
            "No mejora (coincidencia de horarios):0.050000000000000044\n",
            "Juego1(17, 4)\n",
            "No mejora (coincidencia de horarios):0.050000000000000044\n",
            "No mejora (coincidencia de horarios):0.050000000000000044\n",
            "Juego1(16, 5)\n",
            "No mejora (coincidencia de horarios):0.050000000000000044\n",
            "Juego1(15, 6)\n"
          ],
          "name": "stdout"
        }
      ]
    },
    {
      "metadata": {
        "id": "txbrmLmskReM",
        "colab_type": "text"
      },
      "cell_type": "markdown",
      "source": [
        "(*)Diseña un algoritmo que mejore la complejidad del algortimo por fuerza bruta. Argumenta porque crees que mejora el algoritmo por fuerza bruta"
      ]
    },
    {
      "metadata": {
        "id": "hLrVwt5QkZPD",
        "colab_type": "text"
      },
      "cell_type": "markdown",
      "source": [
        "**Respuest**a<br>\n",
        "Mejora porque la funciòn que calcula el costo obtiene un mayor costo.<br>"
      ]
    },
    {
      "metadata": {
        "id": "m1eyM21Vkabg",
        "colab_type": "code",
        "outputId": "556ec6f8-0cfb-4ac5-ded6-d07dd93e9c96",
        "colab": {
          "base_uri": "https://localhost:8080/",
          "height": 109
        }
      },
      "cell_type": "code",
      "source": [
        "#Metodo Voraz\n",
        "#Asigna horarios \n",
        "#Jornada, Horario, Juego\n",
        "# No considera coincidencia de horarios\n",
        "def asigna_horarios(jornada):\n",
        "   jornada_importante=[]\n",
        "   jornada_horario=[]\n",
        "   for juego in jornada:\n",
        "      equipos=juego\n",
        "      #Coloca en el juego primero al equipo más importante para asignar el horario\n",
        "      if equipos[0] < equipos[1]:\n",
        "         jornada_importante.append(equipos)\n",
        "      else:\n",
        "         jornada_importante.append((equipos[1],equipos[0]))\n",
        "      #Ordena primero los equipos más importantes\n",
        "   jornada_ordenada = sorted(jornada_importante, key = lambda x: (x[0], x[1]))\n",
        "   #La variable i se refiere a la Lista de Horarios\n",
        "   #Se asignan los mejores horarios a los equipos mas importantes\n",
        "   i=0\n",
        "   for juego in jornada_ordenada:\n",
        "       jornada_horario.append((i,juego))\n",
        "       i+=1  \n",
        "   return jornada_horario\n",
        "\n",
        "jornada_horario=asigna_horarios(Jornada)\n",
        "print(jornada_horario)\n",
        "\n",
        "calcula_costo_jornada(jornada_horario)"
      ],
      "execution_count": 38,
      "outputs": [
        {
          "output_type": "stream",
          "text": [
            "[(0, (1, 20)), (1, (2, 19)), (2, (3, 18)), (3, (4, 17)), (4, (5, 16)), (5, (6, 15)), (6, (7, 14)), (7, (8, 13)), (8, (9, 12)), (9, (10, 11))]\n",
            "Costo de la Jornada\n",
            "Total de juegos: 10\n",
            "Costo total de la jornada: 6.207500000000001\n",
            "Promedio X juego de la jornada: 0.6207500000000001\n"
          ],
          "name": "stdout"
        }
      ]
    },
    {
      "metadata": {
        "id": "eGDB4K6uk1iN",
        "colab_type": "text"
      },
      "cell_type": "markdown",
      "source": [
        "(*)Calcula la complejidad del algoritmo "
      ]
    },
    {
      "metadata": {
        "id": "Z7knuxLR4hqT",
        "colab_type": "code",
        "colab": {}
      },
      "cell_type": "code",
      "source": [
        ""
      ],
      "execution_count": 0,
      "outputs": []
    },
    {
      "metadata": {
        "id": "NhpTh_BPk1ms",
        "colab_type": "text"
      },
      "cell_type": "markdown",
      "source": [
        "Respuesta\n",
        "<b>3n <b>"
      ]
    },
    {
      "metadata": {
        "id": "nREzhkStlCq8",
        "colab_type": "code",
        "colab": {}
      },
      "cell_type": "code",
      "source": [
        "define costo_juego(juego):\n",
        "  "
      ],
      "execution_count": 0,
      "outputs": []
    },
    {
      "metadata": {
        "id": "3M6QjTsSkmYe",
        "colab_type": "text"
      },
      "cell_type": "markdown",
      "source": [
        "Según el problema (y tenga sentido), diseña un juego de datos de entrada aleatorios"
      ]
    },
    {
      "metadata": {
        "id": "Jc3_OlyNkvjZ",
        "colab_type": "text"
      },
      "cell_type": "markdown",
      "source": [
        "Respuesta"
      ]
    },
    {
      "metadata": {
        "id": "sJ-N2etjkyWc",
        "colab_type": "code",
        "outputId": "0ad287c2-6725-4959-dd80-de49665e218e",
        "colab": {
          "base_uri": "https://localhost:8080/",
          "height": 715
        }
      },
      "cell_type": "code",
      "source": [
        "#Se generan las 38 jornadas de juegos local y visitante para los 20 equipos\n",
        "def genera_jornada(num_equipos, dia):\n",
        "    # se utiliza el algoritmo circuar, https://en.wikipedia.org/wiki/Round-robin_tournament#Scheduling_algorithm\n",
        "    lista = list(range(1, num_equipos + 1))\n",
        "    # rota la lista\n",
        "    dia %= (num_equipos - 1)  \n",
        "    if dia:                 \n",
        "        lista = lista[:1] + lista[-dia:] + lista[1:-dia]\n",
        "    mitad = num_equipos // 2\n",
        "    return list(zip(lista[:mitad], lista[mitad:][::-1]))\n",
        "\n",
        "\n",
        "def genera_calendario(num_equipos):\n",
        "    #genera el primer juego de local\n",
        "    horario = [genera_jornada(num_equipos, dia) for dia in range(num_equipos - 1)]\n",
        "    # genera el segundo juego de visitante intercambiando los equipos\n",
        "    intercambio = [[(visitante, casa) for casa, visitante in dia] for dia in horario]\n",
        "\n",
        "    return horario + intercambio\n",
        "  \n",
        "\n",
        "#num_equipos = int(input(\"Cuantos equipos? \"))\n",
        "num_equipos=20\n",
        "calendario_torneo = genera_calendario(num_equipos)\n",
        "\n",
        "for jornada in calendario_torneo:\n",
        "   print(jornada)\n"
      ],
      "execution_count": 39,
      "outputs": [
        {
          "output_type": "stream",
          "text": [
            "[(1, 20), (2, 19), (3, 18), (4, 17), (5, 16), (6, 15), (7, 14), (8, 13), (9, 12), (10, 11)]\n",
            "[(1, 19), (20, 18), (2, 17), (3, 16), (4, 15), (5, 14), (6, 13), (7, 12), (8, 11), (9, 10)]\n",
            "[(1, 18), (19, 17), (20, 16), (2, 15), (3, 14), (4, 13), (5, 12), (6, 11), (7, 10), (8, 9)]\n",
            "[(1, 17), (18, 16), (19, 15), (20, 14), (2, 13), (3, 12), (4, 11), (5, 10), (6, 9), (7, 8)]\n",
            "[(1, 16), (17, 15), (18, 14), (19, 13), (20, 12), (2, 11), (3, 10), (4, 9), (5, 8), (6, 7)]\n",
            "[(1, 15), (16, 14), (17, 13), (18, 12), (19, 11), (20, 10), (2, 9), (3, 8), (4, 7), (5, 6)]\n",
            "[(1, 14), (15, 13), (16, 12), (17, 11), (18, 10), (19, 9), (20, 8), (2, 7), (3, 6), (4, 5)]\n",
            "[(1, 13), (14, 12), (15, 11), (16, 10), (17, 9), (18, 8), (19, 7), (20, 6), (2, 5), (3, 4)]\n",
            "[(1, 12), (13, 11), (14, 10), (15, 9), (16, 8), (17, 7), (18, 6), (19, 5), (20, 4), (2, 3)]\n",
            "[(1, 11), (12, 10), (13, 9), (14, 8), (15, 7), (16, 6), (17, 5), (18, 4), (19, 3), (20, 2)]\n",
            "[(1, 10), (11, 9), (12, 8), (13, 7), (14, 6), (15, 5), (16, 4), (17, 3), (18, 2), (19, 20)]\n",
            "[(1, 9), (10, 8), (11, 7), (12, 6), (13, 5), (14, 4), (15, 3), (16, 2), (17, 20), (18, 19)]\n",
            "[(1, 8), (9, 7), (10, 6), (11, 5), (12, 4), (13, 3), (14, 2), (15, 20), (16, 19), (17, 18)]\n",
            "[(1, 7), (8, 6), (9, 5), (10, 4), (11, 3), (12, 2), (13, 20), (14, 19), (15, 18), (16, 17)]\n",
            "[(1, 6), (7, 5), (8, 4), (9, 3), (10, 2), (11, 20), (12, 19), (13, 18), (14, 17), (15, 16)]\n",
            "[(1, 5), (6, 4), (7, 3), (8, 2), (9, 20), (10, 19), (11, 18), (12, 17), (13, 16), (14, 15)]\n",
            "[(1, 4), (5, 3), (6, 2), (7, 20), (8, 19), (9, 18), (10, 17), (11, 16), (12, 15), (13, 14)]\n",
            "[(1, 3), (4, 2), (5, 20), (6, 19), (7, 18), (8, 17), (9, 16), (10, 15), (11, 14), (12, 13)]\n",
            "[(1, 2), (3, 20), (4, 19), (5, 18), (6, 17), (7, 16), (8, 15), (9, 14), (10, 13), (11, 12)]\n",
            "[(20, 1), (19, 2), (18, 3), (17, 4), (16, 5), (15, 6), (14, 7), (13, 8), (12, 9), (11, 10)]\n",
            "[(19, 1), (18, 20), (17, 2), (16, 3), (15, 4), (14, 5), (13, 6), (12, 7), (11, 8), (10, 9)]\n",
            "[(18, 1), (17, 19), (16, 20), (15, 2), (14, 3), (13, 4), (12, 5), (11, 6), (10, 7), (9, 8)]\n",
            "[(17, 1), (16, 18), (15, 19), (14, 20), (13, 2), (12, 3), (11, 4), (10, 5), (9, 6), (8, 7)]\n",
            "[(16, 1), (15, 17), (14, 18), (13, 19), (12, 20), (11, 2), (10, 3), (9, 4), (8, 5), (7, 6)]\n",
            "[(15, 1), (14, 16), (13, 17), (12, 18), (11, 19), (10, 20), (9, 2), (8, 3), (7, 4), (6, 5)]\n",
            "[(14, 1), (13, 15), (12, 16), (11, 17), (10, 18), (9, 19), (8, 20), (7, 2), (6, 3), (5, 4)]\n",
            "[(13, 1), (12, 14), (11, 15), (10, 16), (9, 17), (8, 18), (7, 19), (6, 20), (5, 2), (4, 3)]\n",
            "[(12, 1), (11, 13), (10, 14), (9, 15), (8, 16), (7, 17), (6, 18), (5, 19), (4, 20), (3, 2)]\n",
            "[(11, 1), (10, 12), (9, 13), (8, 14), (7, 15), (6, 16), (5, 17), (4, 18), (3, 19), (2, 20)]\n",
            "[(10, 1), (9, 11), (8, 12), (7, 13), (6, 14), (5, 15), (4, 16), (3, 17), (2, 18), (20, 19)]\n",
            "[(9, 1), (8, 10), (7, 11), (6, 12), (5, 13), (4, 14), (3, 15), (2, 16), (20, 17), (19, 18)]\n",
            "[(8, 1), (7, 9), (6, 10), (5, 11), (4, 12), (3, 13), (2, 14), (20, 15), (19, 16), (18, 17)]\n",
            "[(7, 1), (6, 8), (5, 9), (4, 10), (3, 11), (2, 12), (20, 13), (19, 14), (18, 15), (17, 16)]\n",
            "[(6, 1), (5, 7), (4, 8), (3, 9), (2, 10), (20, 11), (19, 12), (18, 13), (17, 14), (16, 15)]\n",
            "[(5, 1), (4, 6), (3, 7), (2, 8), (20, 9), (19, 10), (18, 11), (17, 12), (16, 13), (15, 14)]\n",
            "[(4, 1), (3, 5), (2, 6), (20, 7), (19, 8), (18, 9), (17, 10), (16, 11), (15, 12), (14, 13)]\n",
            "[(3, 1), (2, 4), (20, 5), (19, 6), (18, 7), (17, 8), (16, 9), (15, 10), (14, 11), (13, 12)]\n",
            "[(2, 1), (20, 3), (19, 4), (18, 5), (17, 6), (16, 7), (15, 8), (14, 9), (13, 10), (12, 11)]\n"
          ],
          "name": "stdout"
        }
      ]
    },
    {
      "metadata": {
        "id": "zy5ZROmjlGo1",
        "colab_type": "text"
      },
      "cell_type": "markdown",
      "source": [
        "Aplica el algoritmo al juego de datos generado"
      ]
    },
    {
      "metadata": {
        "id": "_Cmj-PVylMsa",
        "colab_type": "text"
      },
      "cell_type": "markdown",
      "source": [
        "Respuesta"
      ]
    },
    {
      "metadata": {
        "id": "Jkx8GeiYlUz1",
        "colab_type": "code",
        "outputId": "36af651d-74e5-47bc-9c34-5721721603a1",
        "colab": {
          "base_uri": "https://localhost:8080/",
          "height": 129
        }
      },
      "cell_type": "code",
      "source": [
        "#Calcula el costo de la Jornada\n",
        "#Metodo Voraz\n",
        "#Asigna horarios de acuerdo a la importancia del equipo 1 más importante, 20 menos importante\n",
        "#Jornada, Horario, Juego\n",
        "# No considera coincidencia de horarios\n",
        "def calcula_costo_juego(juego,Horarios):\n",
        "   #Determina el valor del juego de acuerdo a los equipos A <5, B < 13, C <=20\n",
        "   equipos=juego[2]\n",
        "   equipo1=equipos[0]\n",
        "   equipo2=equipos[1]\n",
        "   if equipo1 < 5 and equipo2 <5:\n",
        "      factor_equipos=2\n",
        "   elif (equipo1 < 5 and equipo2 <13) or (equipo1 < 13 and equipo2 <5):\n",
        "      factor_equipos=1.3\n",
        "   elif (equipo1 < 5 or equipo2 <5):\n",
        "      factor_equipos=1\n",
        "   elif (equipo1 < 13 and equipo2 <13):\n",
        "      factor_equipos=.9\n",
        "   elif (equipo1 < 13 or equipo2 <13):\n",
        "      factor_equipos=.75\n",
        "   else:\n",
        "      factor_equipos=.47\n",
        "   #Determina el valor del juego de acuerdo al horario\n",
        "   horario=juego[1]\n",
        "   factor_horario=Horarios[horario][3]\n",
        "   return factor_equipos * factor_horario\n",
        "def asigna_horarios(calendario_torneo):\n",
        "   semana=1\n",
        "   jornada_horario=[]\n",
        "   for jornada in calendario_torneo:\n",
        "      jornada_importante=[]\n",
        "      # Pone primero el equipo con más audiencia\n",
        "      for juego in jornada:\n",
        "          equipos=juego\n",
        "          #Coloca en el juego primero al equipo más importante para asignar el horario\n",
        "          if equipos[0] < equipos[1]:\n",
        "             jornada_importante.append(equipos)\n",
        "          else:\n",
        "             jornada_importante.append((equipos[1],equipos[0]))\n",
        "      #Ordena primero los equipos más importantes\n",
        "      jornada_ordenada = sorted(jornada_importante, key = lambda x: (x[0], x[1]))\n",
        "      # i es el horario de la lista de horarios\n",
        "      i=0\n",
        "      for juego in jornada_ordenada:\n",
        "          jornada_horario.append((semana,i,juego))\n",
        "          i+=1 \n",
        "      semana+=1 \n",
        "   return jornada_horario\n",
        "\n",
        "def calcula_costo_calendario(jornada_horario):\n",
        "  costo=0\n",
        "  for juego in jornada_horario:\n",
        "     costo=costo+calcula_costo_juego(juego,Horarios) \n",
        "  print(\"Costo de la Jornada 38 fechas (19 en casa y 19 visita)\")\n",
        "  print(\"Total de juegos: 380\")\n",
        "  print(\"Costo total del calendario: \"+str(costo))\n",
        "  print(\"Promedio X juego del calendario: \"+str(costo/380))\n",
        "  return\n",
        "\n",
        "jornada_horario=asigna_horarios(calendario_torneo)\n",
        "print(jornada_horario)\n",
        "calcula_costo_calendario(jornada_horario)"
      ],
      "execution_count": 40,
      "outputs": [
        {
          "output_type": "stream",
          "text": [
            "[(1, 0, (1, 20)), (1, 1, (2, 19)), (1, 2, (3, 18)), (1, 3, (4, 17)), (1, 4, (5, 16)), (1, 5, (6, 15)), (1, 6, (7, 14)), (1, 7, (8, 13)), (1, 8, (9, 12)), (1, 9, (10, 11)), (2, 0, (1, 19)), (2, 1, (2, 17)), (2, 2, (3, 16)), (2, 3, (4, 15)), (2, 4, (5, 14)), (2, 5, (6, 13)), (2, 6, (7, 12)), (2, 7, (8, 11)), (2, 8, (9, 10)), (2, 9, (18, 20)), (3, 0, (1, 18)), (3, 1, (2, 15)), (3, 2, (3, 14)), (3, 3, (4, 13)), (3, 4, (5, 12)), (3, 5, (6, 11)), (3, 6, (7, 10)), (3, 7, (8, 9)), (3, 8, (16, 20)), (3, 9, (17, 19)), (4, 0, (1, 17)), (4, 1, (2, 13)), (4, 2, (3, 12)), (4, 3, (4, 11)), (4, 4, (5, 10)), (4, 5, (6, 9)), (4, 6, (7, 8)), (4, 7, (14, 20)), (4, 8, (15, 19)), (4, 9, (16, 18)), (5, 0, (1, 16)), (5, 1, (2, 11)), (5, 2, (3, 10)), (5, 3, (4, 9)), (5, 4, (5, 8)), (5, 5, (6, 7)), (5, 6, (12, 20)), (5, 7, (13, 19)), (5, 8, (14, 18)), (5, 9, (15, 17)), (6, 0, (1, 15)), (6, 1, (2, 9)), (6, 2, (3, 8)), (6, 3, (4, 7)), (6, 4, (5, 6)), (6, 5, (10, 20)), (6, 6, (11, 19)), (6, 7, (12, 18)), (6, 8, (13, 17)), (6, 9, (14, 16)), (7, 0, (1, 14)), (7, 1, (2, 7)), (7, 2, (3, 6)), (7, 3, (4, 5)), (7, 4, (8, 20)), (7, 5, (9, 19)), (7, 6, (10, 18)), (7, 7, (11, 17)), (7, 8, (12, 16)), (7, 9, (13, 15)), (8, 0, (1, 13)), (8, 1, (2, 5)), (8, 2, (3, 4)), (8, 3, (6, 20)), (8, 4, (7, 19)), (8, 5, (8, 18)), (8, 6, (9, 17)), (8, 7, (10, 16)), (8, 8, (11, 15)), (8, 9, (12, 14)), (9, 0, (1, 12)), (9, 1, (2, 3)), (9, 2, (4, 20)), (9, 3, (5, 19)), (9, 4, (6, 18)), (9, 5, (7, 17)), (9, 6, (8, 16)), (9, 7, (9, 15)), (9, 8, (10, 14)), (9, 9, (11, 13)), (10, 0, (1, 11)), (10, 1, (2, 20)), (10, 2, (3, 19)), (10, 3, (4, 18)), (10, 4, (5, 17)), (10, 5, (6, 16)), (10, 6, (7, 15)), (10, 7, (8, 14)), (10, 8, (9, 13)), (10, 9, (10, 12)), (11, 0, (1, 10)), (11, 1, (2, 18)), (11, 2, (3, 17)), (11, 3, (4, 16)), (11, 4, (5, 15)), (11, 5, (6, 14)), (11, 6, (7, 13)), (11, 7, (8, 12)), (11, 8, (9, 11)), (11, 9, (19, 20)), (12, 0, (1, 9)), (12, 1, (2, 16)), (12, 2, (3, 15)), (12, 3, (4, 14)), (12, 4, (5, 13)), (12, 5, (6, 12)), (12, 6, (7, 11)), (12, 7, (8, 10)), (12, 8, (17, 20)), (12, 9, (18, 19)), (13, 0, (1, 8)), (13, 1, (2, 14)), (13, 2, (3, 13)), (13, 3, (4, 12)), (13, 4, (5, 11)), (13, 5, (6, 10)), (13, 6, (7, 9)), (13, 7, (15, 20)), (13, 8, (16, 19)), (13, 9, (17, 18)), (14, 0, (1, 7)), (14, 1, (2, 12)), (14, 2, (3, 11)), (14, 3, (4, 10)), (14, 4, (5, 9)), (14, 5, (6, 8)), (14, 6, (13, 20)), (14, 7, (14, 19)), (14, 8, (15, 18)), (14, 9, (16, 17)), (15, 0, (1, 6)), (15, 1, (2, 10)), (15, 2, (3, 9)), (15, 3, (4, 8)), (15, 4, (5, 7)), (15, 5, (11, 20)), (15, 6, (12, 19)), (15, 7, (13, 18)), (15, 8, (14, 17)), (15, 9, (15, 16)), (16, 0, (1, 5)), (16, 1, (2, 8)), (16, 2, (3, 7)), (16, 3, (4, 6)), (16, 4, (9, 20)), (16, 5, (10, 19)), (16, 6, (11, 18)), (16, 7, (12, 17)), (16, 8, (13, 16)), (16, 9, (14, 15)), (17, 0, (1, 4)), (17, 1, (2, 6)), (17, 2, (3, 5)), (17, 3, (7, 20)), (17, 4, (8, 19)), (17, 5, (9, 18)), (17, 6, (10, 17)), (17, 7, (11, 16)), (17, 8, (12, 15)), (17, 9, (13, 14)), (18, 0, (1, 3)), (18, 1, (2, 4)), (18, 2, (5, 20)), (18, 3, (6, 19)), (18, 4, (7, 18)), (18, 5, (8, 17)), (18, 6, (9, 16)), (18, 7, (10, 15)), (18, 8, (11, 14)), (18, 9, (12, 13)), (19, 0, (1, 2)), (19, 1, (3, 20)), (19, 2, (4, 19)), (19, 3, (5, 18)), (19, 4, (6, 17)), (19, 5, (7, 16)), (19, 6, (8, 15)), (19, 7, (9, 14)), (19, 8, (10, 13)), (19, 9, (11, 12)), (20, 0, (1, 20)), (20, 1, (2, 19)), (20, 2, (3, 18)), (20, 3, (4, 17)), (20, 4, (5, 16)), (20, 5, (6, 15)), (20, 6, (7, 14)), (20, 7, (8, 13)), (20, 8, (9, 12)), (20, 9, (10, 11)), (21, 0, (1, 19)), (21, 1, (2, 17)), (21, 2, (3, 16)), (21, 3, (4, 15)), (21, 4, (5, 14)), (21, 5, (6, 13)), (21, 6, (7, 12)), (21, 7, (8, 11)), (21, 8, (9, 10)), (21, 9, (18, 20)), (22, 0, (1, 18)), (22, 1, (2, 15)), (22, 2, (3, 14)), (22, 3, (4, 13)), (22, 4, (5, 12)), (22, 5, (6, 11)), (22, 6, (7, 10)), (22, 7, (8, 9)), (22, 8, (16, 20)), (22, 9, (17, 19)), (23, 0, (1, 17)), (23, 1, (2, 13)), (23, 2, (3, 12)), (23, 3, (4, 11)), (23, 4, (5, 10)), (23, 5, (6, 9)), (23, 6, (7, 8)), (23, 7, (14, 20)), (23, 8, (15, 19)), (23, 9, (16, 18)), (24, 0, (1, 16)), (24, 1, (2, 11)), (24, 2, (3, 10)), (24, 3, (4, 9)), (24, 4, (5, 8)), (24, 5, (6, 7)), (24, 6, (12, 20)), (24, 7, (13, 19)), (24, 8, (14, 18)), (24, 9, (15, 17)), (25, 0, (1, 15)), (25, 1, (2, 9)), (25, 2, (3, 8)), (25, 3, (4, 7)), (25, 4, (5, 6)), (25, 5, (10, 20)), (25, 6, (11, 19)), (25, 7, (12, 18)), (25, 8, (13, 17)), (25, 9, (14, 16)), (26, 0, (1, 14)), (26, 1, (2, 7)), (26, 2, (3, 6)), (26, 3, (4, 5)), (26, 4, (8, 20)), (26, 5, (9, 19)), (26, 6, (10, 18)), (26, 7, (11, 17)), (26, 8, (12, 16)), (26, 9, (13, 15)), (27, 0, (1, 13)), (27, 1, (2, 5)), (27, 2, (3, 4)), (27, 3, (6, 20)), (27, 4, (7, 19)), (27, 5, (8, 18)), (27, 6, (9, 17)), (27, 7, (10, 16)), (27, 8, (11, 15)), (27, 9, (12, 14)), (28, 0, (1, 12)), (28, 1, (2, 3)), (28, 2, (4, 20)), (28, 3, (5, 19)), (28, 4, (6, 18)), (28, 5, (7, 17)), (28, 6, (8, 16)), (28, 7, (9, 15)), (28, 8, (10, 14)), (28, 9, (11, 13)), (29, 0, (1, 11)), (29, 1, (2, 20)), (29, 2, (3, 19)), (29, 3, (4, 18)), (29, 4, (5, 17)), (29, 5, (6, 16)), (29, 6, (7, 15)), (29, 7, (8, 14)), (29, 8, (9, 13)), (29, 9, (10, 12)), (30, 0, (1, 10)), (30, 1, (2, 18)), (30, 2, (3, 17)), (30, 3, (4, 16)), (30, 4, (5, 15)), (30, 5, (6, 14)), (30, 6, (7, 13)), (30, 7, (8, 12)), (30, 8, (9, 11)), (30, 9, (19, 20)), (31, 0, (1, 9)), (31, 1, (2, 16)), (31, 2, (3, 15)), (31, 3, (4, 14)), (31, 4, (5, 13)), (31, 5, (6, 12)), (31, 6, (7, 11)), (31, 7, (8, 10)), (31, 8, (17, 20)), (31, 9, (18, 19)), (32, 0, (1, 8)), (32, 1, (2, 14)), (32, 2, (3, 13)), (32, 3, (4, 12)), (32, 4, (5, 11)), (32, 5, (6, 10)), (32, 6, (7, 9)), (32, 7, (15, 20)), (32, 8, (16, 19)), (32, 9, (17, 18)), (33, 0, (1, 7)), (33, 1, (2, 12)), (33, 2, (3, 11)), (33, 3, (4, 10)), (33, 4, (5, 9)), (33, 5, (6, 8)), (33, 6, (13, 20)), (33, 7, (14, 19)), (33, 8, (15, 18)), (33, 9, (16, 17)), (34, 0, (1, 6)), (34, 1, (2, 10)), (34, 2, (3, 9)), (34, 3, (4, 8)), (34, 4, (5, 7)), (34, 5, (11, 20)), (34, 6, (12, 19)), (34, 7, (13, 18)), (34, 8, (14, 17)), (34, 9, (15, 16)), (35, 0, (1, 5)), (35, 1, (2, 8)), (35, 2, (3, 7)), (35, 3, (4, 6)), (35, 4, (9, 20)), (35, 5, (10, 19)), (35, 6, (11, 18)), (35, 7, (12, 17)), (35, 8, (13, 16)), (35, 9, (14, 15)), (36, 0, (1, 4)), (36, 1, (2, 6)), (36, 2, (3, 5)), (36, 3, (7, 20)), (36, 4, (8, 19)), (36, 5, (9, 18)), (36, 6, (10, 17)), (36, 7, (11, 16)), (36, 8, (12, 15)), (36, 9, (13, 14)), (37, 0, (1, 3)), (37, 1, (2, 4)), (37, 2, (5, 20)), (37, 3, (6, 19)), (37, 4, (7, 18)), (37, 5, (8, 17)), (37, 6, (9, 16)), (37, 7, (10, 15)), (37, 8, (11, 14)), (37, 9, (12, 13)), (38, 0, (1, 2)), (38, 1, (3, 20)), (38, 2, (4, 19)), (38, 3, (5, 18)), (38, 4, (6, 17)), (38, 5, (7, 16)), (38, 6, (8, 15)), (38, 7, (9, 14)), (38, 8, (10, 13)), (38, 9, (11, 12))]\n",
            "Costo de la Jornada 38 fechas (19 en casa y 19 visita)\n",
            "Total de juegos: 380\n",
            "Costo total del calendario: 256.54400000000004\n",
            "Promedio X juego del calendario: 0.6751157894736843\n"
          ],
          "name": "stdout"
        }
      ]
    },
    {
      "metadata": {
        "colab_type": "text",
        "id": "eTFWUJQrtGcv"
      },
      "cell_type": "markdown",
      "source": [
        "Enumera las referencias que has utilizado(si ha sido necesario) para llevar a cabo el trabajo"
      ]
    },
    {
      "metadata": {
        "id": "YKQ_mRBttWsP",
        "colab_type": "text"
      },
      "cell_type": "markdown",
      "source": [
        "Respuesta<br>\n",
        "Para generar un calendario de juegos completo:<br>\n",
        "https://en.wikipedia.org/wiki/Round-robin_tournament#Scheduling_algorithm"
      ]
    },
    {
      "metadata": {
        "id": "3Jkk2p7yGm5X",
        "colab_type": "code",
        "colab": {}
      },
      "cell_type": "code",
      "source": [
        ""
      ],
      "execution_count": 0,
      "outputs": []
    },
    {
      "metadata": {
        "id": "kAkDPUyRtYyH",
        "colab_type": "text"
      },
      "cell_type": "markdown",
      "source": [
        "Describe brevemente las lineas de como crees que es posible avanzar en el estudio del problema. Ten en cuenta incluso posibles variaciones del problema y/o variaciones al alza del tamaño"
      ]
    },
    {
      "metadata": {
        "id": "IE0uZmo-tZu-",
        "colab_type": "text"
      },
      "cell_type": "markdown",
      "source": [
        "Respuesta<br>\n",
        "1. Generar calendarios de juegos  para maximizar la ganancia. del torneo<br>\n",
        "2. En las jornadas, cada  semana se debe considerar factores directos que aumenten o disminuyan la audiencia como la posición en la tabla de puntos<br>\n",
        "3. En las jornadas, se deben considerar factores indirectos como  dias festivos, u otros eventos que compitan por audiencia y es decir tener horarios con ganancia por jornada<br>\n"
      ]
    },
    {
      "metadata": {
        "id": "jMSahMyxHNlP",
        "colab_type": "code",
        "colab": {}
      },
      "cell_type": "code",
      "source": [
        ""
      ],
      "execution_count": 0,
      "outputs": []
    },
    {
      "metadata": {
        "id": "t67NKxCfHJz3",
        "colab_type": "code",
        "colab": {}
      },
      "cell_type": "code",
      "source": [
        ""
      ],
      "execution_count": 0,
      "outputs": []
    }
  ]
}
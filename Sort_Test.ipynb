{
  "nbformat": 4,
  "nbformat_minor": 0,
  "metadata": {
    "colab": {
      "name": "Sort_Test.ipynb",
      "version": "0.3.2",
      "provenance": [],
      "include_colab_link": true
    },
    "kernelspec": {
      "name": "python3",
      "display_name": "Python 3"
    }
  },
  "cells": [
    {
      "cell_type": "markdown",
      "metadata": {
        "id": "view-in-github",
        "colab_type": "text"
      },
      "source": [
        "<a href=\"https://colab.research.google.com/github/tguerreroco/03MAIR---Algoritmos-de-Optimizacion---2019/blob/master/Sort_Test.ipynb\" target=\"_parent\"><img src=\"https://colab.research.google.com/assets/colab-badge.svg\" alt=\"Open In Colab\"/></a>"
      ]
    },
    {
      "metadata": {
        "id": "ewN85nK8RJqh",
        "colab_type": "code",
        "colab": {
          "base_uri": "https://localhost:8080/",
          "height": 164
        },
        "outputId": "fa4e2a48-52a1-44c9-9654-8f40a878cc23"
      },
      "cell_type": "code",
      "source": [
        "!pip install sorting\n"
      ],
      "execution_count": 2,
      "outputs": [
        {
          "output_type": "stream",
          "text": [
            "Collecting sorting\n",
            "  Downloading https://files.pythonhosted.org/packages/5f/c8/2d2318aa6697f8771371bdfb27c12bff5437f5b2f323a11563f2a8bf4fdf/sorting-1.0.2.tar.gz\n",
            "Building wheels for collected packages: sorting\n",
            "  Building wheel for sorting (setup.py) ... \u001b[?25ldone\n",
            "\u001b[?25h  Stored in directory: /root/.cache/pip/wheels/1d/69/7d/afb45b857f9cd6d7927312839c0928f20284f476cb4265474e\n",
            "Successfully built sorting\n",
            "Installing collected packages: sorting\n",
            "Successfully installed sorting-1.0.2\n"
          ],
          "name": "stdout"
        }
      ]
    },
    {
      "metadata": {
        "id": "Y97RzHJzS9Na",
        "colab_type": "text"
      },
      "cell_type": "markdown",
      "source": [
        "Primer codigo con github"
      ]
    },
    {
      "metadata": {
        "id": "6TPmKmtTSFb5",
        "colab_type": "code",
        "colab": {}
      },
      "cell_type": "code",
      "source": [
        "import sorting\n",
        "lista=[100,500,1,2000,300,400,205]\n",
        "lista_ordenada=sorting.bubble(lista)\n"
      ],
      "execution_count": 0,
      "outputs": []
    },
    {
      "metadata": {
        "id": "KnvlkMfUSwXK",
        "colab_type": "code",
        "colab": {
          "base_uri": "https://localhost:8080/",
          "height": 54
        },
        "outputId": "886986c8-f69c-4a95-b8dd-daafd3d42126"
      },
      "cell_type": "code",
      "source": [
        "print(lista)\n",
        "print(lista_ordenada)"
      ],
      "execution_count": 7,
      "outputs": [
        {
          "output_type": "stream",
          "text": [
            "[1, 100, 205, 300, 400, 500, 2000]\n",
            "[1, 100, 205, 300, 400, 500, 2000]\n"
          ],
          "name": "stdout"
        }
      ]
    }
  ]
}
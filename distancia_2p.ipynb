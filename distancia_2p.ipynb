{
  "nbformat": 4,
  "nbformat_minor": 0,
  "metadata": {
    "colab": {
      "name": "distancia_2p.ipynb",
      "version": "0.3.2",
      "provenance": [],
      "include_colab_link": true
    },
    "kernelspec": {
      "name": "python3",
      "display_name": "Python 3"
    }
  },
  "cells": [
    {
      "cell_type": "markdown",
      "metadata": {
        "id": "view-in-github",
        "colab_type": "text"
      },
      "source": [
        "<a href=\"https://colab.research.google.com/github/tguerreroco/03MAIR---Algoritmos-de-Optimizacion---2019/blob/master/distancia_2p.ipynb\" target=\"_parent\"><img src=\"https://colab.research.google.com/assets/colab-badge.svg\" alt=\"Open In Colab\"/></a>"
      ]
    },
    {
      "metadata": {
        "id": "nM21EvYymJyP",
        "colab_type": "code",
        "colab": {
          "base_uri": "https://localhost:8080/",
          "height": 72
        },
        "outputId": "019d918b-e1de-4614-d1ff-1114193dca42"
      },
      "cell_type": "code",
      "source": [
        "#Distancia entre dos puntos\n",
        "#Método de fuerza bruta\n",
        "import random\n",
        "LISTA_1D=[random.randrange(1,10000) for x in range(10000)]\n",
        "LISTA_2D=[(random.randrange(1,10000),random.randrange(1,10000)) for x in range(1000)]\n",
        "from time import time\n",
        "import random\n",
        "def calcular_tiempo(f):\n",
        "   \n",
        "    def wrapper(*args, **kwargs):        \n",
        "        inicio = time()       \n",
        "        resultado = f(*args, **kwargs)       \n",
        "        tiempo = float(time() - inicio)     \n",
        "        print(\"\\r\\n Tiempo de ejecución para algoritmo: \"+\"{0:.25f}\".format(tiempo))\n",
        "        return resultado\n",
        "    \n",
        "    return wrapper\n",
        "\n",
        "def f_distancia_2p(punto1, punto2):\n",
        "    return abs(punto2 - punto1)\n",
        "\n",
        "@calcular_tiempo\n",
        "def f_d2p_fuerza_bruta(lista):\n",
        "    distancia_minima = f_distancia_2p(lista[0], lista[1])\n",
        "    punto1 = lista[0]\n",
        "    punto2 = lista[1]\n",
        "    len_lista = len(lista)\n",
        "    if len_lista == 2:\n",
        "        return [punto1, punto2, distancia_minima]\n",
        "    for i in range(len_lista-1):\n",
        "        for j in range(i + 1, len_lista):\n",
        "            if i != 0 and j != 1:\n",
        "                distancia = f_distancia_2p(lista[i], lista[j])\n",
        "                if distancia < distancia_minima:  \n",
        "                    distancia_minima = distancia\n",
        "                    punto1, punto2 = lista[i], lista[j]\n",
        "    lista_salida=[distancia_minima, punto1,punto2]\n",
        "    return lista_salida\n",
        "resultado=f_d2p_fuerza_bruta(LISTA_1D)\n",
        "print ('Distancia mínima: '+str(resultado[0])+', puntos '+str(resultado[1])+' y '+str(resultado[2]))\n"
      ],
      "execution_count": 6,
      "outputs": [
        {
          "output_type": "stream",
          "text": [
            "\r\n",
            " Tiempo de ejecución para algoritmo: 17.4111614227294921875000000\n",
            "Distancia mínima: 0, puntos 5502 y 5502\n"
          ],
          "name": "stdout"
        }
      ]
    },
    {
      "metadata": {
        "id": "Jjjf6RVo6rnT",
        "colab_type": "code",
        "colab": {
          "base_uri": "https://localhost:8080/",
          "height": 72
        },
        "outputId": "73f7ee61-9b8f-4d52-81f7-613dabfeb93a"
      },
      "cell_type": "code",
      "source": [
        "#Se puede mejorar\n",
        "#Ordena Lista y Elimina duplicados\n",
        "def f_elimina_duplicados(lista):\n",
        "    lista_ordenada=np.sort(lista)\n",
        "    lista_sin_duplicados = list(set(lista_ordenada))\n",
        "    return lista_sin_duplicados        \n",
        "resultado=f_d2p_fuerza_bruta(f_elimina_duplicados(LISTA_1D))\n",
        "print ('Distancia mínima: '+str(resultado[0])+', puntos '+str(resultado[1])+' y '+str(resultado[2]))"
      ],
      "execution_count": 8,
      "outputs": [
        {
          "output_type": "stream",
          "text": [
            "\r\n",
            " Tiempo de ejecución para algoritmo: 8.1959881782531738281250000\n",
            "Distancia mínima: 1, puntos 1 y 2\n"
          ],
          "name": "stdout"
        }
      ]
    },
    {
      "metadata": {
        "id": "bNTCmdShDVJS",
        "colab_type": "code",
        "colab": {}
      },
      "cell_type": "code",
      "source": [
        ""
      ],
      "execution_count": 0,
      "outputs": []
    },
    {
      "metadata": {
        "id": "jPLORqNh6xaQ",
        "colab_type": "code",
        "colab": {}
      },
      "cell_type": "code",
      "source": [
        ""
      ],
      "execution_count": 0,
      "outputs": []
    }
  ]
}
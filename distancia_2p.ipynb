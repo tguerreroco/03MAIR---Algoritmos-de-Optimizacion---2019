{
  "nbformat": 4,
  "nbformat_minor": 0,
  "metadata": {
    "colab": {
      "name": "distancia_2p.ipynb",
      "version": "0.3.2",
      "provenance": [],
      "include_colab_link": true
    },
    "kernelspec": {
      "name": "python3",
      "display_name": "Python 3"
    }
  },
  "cells": [
    {
      "cell_type": "markdown",
      "metadata": {
        "id": "view-in-github",
        "colab_type": "text"
      },
      "source": [
        "<a href=\"https://colab.research.google.com/github/tguerreroco/03MAIR---Algoritmos-de-Optimizacion---2019/blob/master/distancia_2p.ipynb\" target=\"_parent\"><img src=\"https://colab.research.google.com/assets/colab-badge.svg\" alt=\"Open In Colab\"/></a>"
      ]
    },
    {
      "metadata": {
        "id": "nM21EvYymJyP",
        "colab_type": "code",
        "outputId": "3499ebf3-f813-450f-d6bc-4da15b5327c2",
        "colab": {
          "base_uri": "https://localhost:8080/",
          "height": 72
        }
      },
      "cell_type": "code",
      "source": [
        "#Distancia entre dos puntos\n",
        "#Método de fuerza bruta\n",
        "import random\n",
        "import numpy as np\n",
        "LISTA_1D=[random.randrange(1,10000) for x in range(10000)]\n",
        "LISTA_2D=[(random.randrange(1,10000),random.randrange(1,10000)) for x in range(1000)]\n",
        "from time import time\n",
        "import random\n",
        "def calcular_tiempo(f):\n",
        "   \n",
        "    def wrapper(*args, **kwargs):        \n",
        "        inicio = time()       \n",
        "        resultado = f(*args, **kwargs)       \n",
        "        tiempo = float(time() - inicio)     \n",
        "        print(\"\\r\\n Tiempo de ejecución para algoritmo: \"+\"{0:.25f}\".format(tiempo))\n",
        "        return resultado\n",
        "    \n",
        "    return wrapper\n",
        "\n",
        "def f_distancia_2p(punto1, punto2):\n",
        "    return abs(punto2 - punto1)\n",
        "\n",
        "@calcular_tiempo\n",
        "def f_d2p_fuerza_bruta(lista):\n",
        "    distancia_minima = f_distancia_2p(lista[0], lista[1])\n",
        "    punto1 = lista[0]\n",
        "    punto2 = lista[1]\n",
        "    len_lista = len(lista)\n",
        "    if len_lista == 2:\n",
        "        return [punto1, punto2, distancia_minima]\n",
        "    for i in range(len_lista-1):\n",
        "        for j in range(i + 1, len_lista):\n",
        "            if i != 0 and j != 1:\n",
        "                distancia = f_distancia_2p(lista[i], lista[j])\n",
        "                if distancia < distancia_minima:  \n",
        "                    distancia_minima = distancia\n",
        "                    punto1, punto2 = lista[i], lista[j]\n",
        "    lista_salida=[distancia_minima, punto1,punto2]\n",
        "    return lista_salida\n",
        "resultado=f_d2p_fuerza_bruta(LISTA_1D)\n",
        "print ('Distancia mínima: '+str(resultado[0])+', puntos '+str(resultado[1])+' y '+str(resultado[2]))"
      ],
      "execution_count": 3,
      "outputs": [
        {
          "output_type": "stream",
          "text": [
            "\r\n",
            " Tiempo de ejecución para algoritmo: 18.8362030982971191406250000\n",
            "Distancia mínima: 0, puntos 3 y 3\n"
          ],
          "name": "stdout"
        }
      ]
    },
    {
      "metadata": {
        "id": "Jjjf6RVo6rnT",
        "colab_type": "code",
        "outputId": "a9644a59-f555-4dc0-ade6-bb0fe4821daa",
        "colab": {
          "base_uri": "https://localhost:8080/",
          "height": 109
        }
      },
      "cell_type": "code",
      "source": [
        "#Se puede mejorar\n",
        "#Ordena Lista y Elimina duplicados\n",
        "@calcular_tiempo\n",
        "def f_elimina_duplicados(lista):\n",
        "    lista_ordenada=np.sort(lista)\n",
        "    lista_sin_duplicados = list(set(lista_ordenada))\n",
        "    return lista_sin_duplicados        \n",
        "resultado=f_d2p_fuerza_bruta(f_elimina_duplicados(LISTA_1D))\n",
        "print ('Distancia mínima: '+str(resultado[0])+', puntos '+str(resultado[1])+' y '+str(resultado[2]))"
      ],
      "execution_count": 4,
      "outputs": [
        {
          "output_type": "stream",
          "text": [
            "\r\n",
            " Tiempo de ejecución para algoritmo: 0.0051493644714355468750000\n",
            "\n",
            " Tiempo de ejecución para algoritmo: 8.7301304340362548828125000\n",
            "Distancia mínima: 1, puntos 7 y 8\n"
          ],
          "name": "stdout"
        }
      ]
    },
    {
      "metadata": {
        "id": "bNTCmdShDVJS",
        "colab_type": "code",
        "colab": {
          "base_uri": "https://localhost:8080/",
          "height": 109
        },
        "outputId": "cc6f1d33-c340-41ae-c3eb-2044a354076c"
      },
      "cell_type": "code",
      "source": [
        "#Segundo intento aplicar Divide y Vencerás\n",
        "import numpy as np\n",
        "# Revisa los dos elementos finales de una lista  (lista)\n",
        "# Si la distanci entre esos puntos es menor que la menor distancia (lista_r)\n",
        "# actualiza lista_r \n",
        "# quita el ultimo elemento y continua en forma recursiva \n",
        "def f_puntos_mas_cercanos(lista,lista_r):  \n",
        "    len_lista = len(lista)  \n",
        "    if len_lista < 3:\n",
        "       punto1 = lista[len(lista)-1]\n",
        "       punto2 = lista[len(lista)-2]\n",
        "       distancia_minima = f_distancia_2p(punto1, punto2)\n",
        "       if distancia_minima < lista_r[0]:\n",
        "          resultado=(distancia_minima,punto1,punto2)\n",
        "       return lista_r\n",
        "    \n",
        "    punto1 = lista[len(lista)-1]\n",
        "    punto2 = lista[len(lista)-2]\n",
        "    distancia_minima = f_distancia_2p(punto1, punto2)\n",
        "    lista=lista[:-1]\n",
        "    if distancia_minima < lista_r[0]:\n",
        "       lista_r=(distancia_minima,punto1,punto2)\n",
        "    resultado=f_puntos_mas_cercanos(lista,lista_r)\n",
        "    return resultado\n",
        "# Encuentra los puntos más cercanos de una lista\n",
        "def f_procesa_lista(lista):\n",
        "    punto1 = lista[len(lista)-1]\n",
        "    punto2 = lista[len(lista)-2]\n",
        "    distancia_minima = f_distancia_2p(punto1, punto2)\n",
        "    lista=lista[:-1]\n",
        "    lista_r=(distancia_minima,punto1,punto2)\n",
        "    return f_puntos_mas_cercanos(lista,lista_r)\n",
        "\n",
        "#Genera sublistas más una lista adicional con los puntos final de una lista\n",
        "# e inicial de la siguiente lista\n",
        "def f_genera_sublistas(lista,numero_sublistas):\n",
        "    longitud=len(lista)/float(numero_sublistas)\n",
        "    print(\"Listas de tamaño: \"+str(int(longitud)))\n",
        "    ultimo=0\n",
        "    sublistas=[]\n",
        "    lista_limites=[]\n",
        "    lista_ordenada=np.sort(lista).tolist()\n",
        "    while ultimo < len(lista_ordenada):\n",
        "       sublistas.append(lista_ordenada[int(ultimo):int(ultimo+longitud)])\n",
        "       if ultimo+longitud+1 < len(lista_ordenada):\n",
        "          lista_limites.append(lista_ordenada[int(ultimo+longitud-1)])\n",
        "          lista_limites.append(lista_ordenada[int(ultimo+longitud)])                         \n",
        "       ultimo+=longitud\n",
        "    sublistas.append(lista_limites) \n",
        "    return sublistas\n",
        "\n",
        "@calcular_tiempo\n",
        "def f_distancia_2p_lista(tamano_sublista):  \n",
        "    numero_sublistas=(len(LISTA_1D)//tamano_sublista)+1\n",
        "    print('Numero_sublistas: '+str(numero_sublistas))\n",
        "    sublistas=(f_genera_sublistas(LISTA_1D,numero_sublistas))\n",
        "    for sublista in sublistas:\n",
        "       resultado=f_procesa_lista(sublista)\n",
        "       lista_final.append(resultado[1])\n",
        "       lista_final.append(resultado[2])\n",
        "    resultado=f_procesa_lista(lista_final)\n",
        "    print ('Distancia mínima: '+str(resultado[0])+', puntos '+str(resultado[1])+' y '+str(resultado[2])) \n",
        "    return\n",
        "\n",
        "tamano_sublista=500\n",
        "f_distancia_2p_lista(tamano_sublista)"
      ],
      "execution_count": 15,
      "outputs": [
        {
          "output_type": "stream",
          "text": [
            "Numero_sublistas: 21\n",
            "Listas de tamaño: 476\n",
            "Distancia mínima: 0, puntos 9528 y 9528\n",
            "\r\n",
            " Tiempo de ejecución para algoritmo: 0.0326538085937500000000000\n"
          ],
          "name": "stdout"
        }
      ]
    },
    {
      "metadata": {
        "id": "jPLORqNh6xaQ",
        "colab_type": "code",
        "colab": {}
      },
      "cell_type": "code",
      "source": [
        ""
      ],
      "execution_count": 0,
      "outputs": []
    }
  ]
}
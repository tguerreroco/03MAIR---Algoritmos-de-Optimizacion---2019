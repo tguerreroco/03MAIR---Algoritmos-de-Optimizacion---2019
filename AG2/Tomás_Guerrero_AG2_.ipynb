{
  "nbformat": 4,
  "nbformat_minor": 0,
  "metadata": {
    "colab": {
      "name": "Tomás Guerrero AG2 .ipynb",
      "version": "0.3.2",
      "provenance": [],
      "collapsed_sections": [],
      "include_colab_link": true
    },
    "kernelspec": {
      "name": "python3",
      "display_name": "Python 3"
    }
  },
  "cells": [
    {
      "cell_type": "markdown",
      "metadata": {
        "id": "view-in-github",
        "colab_type": "text"
      },
      "source": [
        "<a href=\"https://colab.research.google.com/github/tguerreroco/03MAIR---Algoritmos-de-Optimizacion---2019/blob/master/AG2/Tom%C3%A1s_Guerrero_AG2_.ipynb\" target=\"_parent\"><img src=\"https://colab.research.google.com/assets/colab-badge.svg\" alt=\"Open In Colab\"/></a>"
      ]
    },
    {
      "metadata": {
        "id": "OS53MyiiKJwI",
        "colab_type": "text"
      },
      "cell_type": "markdown",
      "source": [
        "Tomás Guerrero Cortés - AG2 <br>\n",
        "Actividad Guiada 2 <br>\n",
        "[URL del código](https://github.com/tguerreroco/03MAIR---Algoritmos-de-Optimizacion---2019/tree/master/AG2)"
      ]
    },
    {
      "metadata": {
        "id": "66m2Smby233v",
        "colab_type": "text"
      },
      "cell_type": "markdown",
      "source": [
        ""
      ]
    },
    {
      "metadata": {
        "id": "cq2lKqQm2b7V",
        "colab_type": "code",
        "colab": {}
      },
      "cell_type": "code",
      "source": [
        "#Calculo de Tiempos(Isabel Vazques). \n",
        "from time import time\n",
        "def calcular_tiempo(f):\n",
        "   \n",
        "    def wrapper(*args, **kwargs):        \n",
        "        inicio = time()       \n",
        "        resultado = f(*args, **kwargs)       \n",
        "        tiempo = float(time() - inicio)     \n",
        "        print(\"\\r\\n Tiempo de ejecución para algoritmo: \"+\"{0:.25f}\".format(tiempo))\n",
        "        return resultado\n",
        "    \n",
        "    return wrapper"
      ],
      "execution_count": 0,
      "outputs": []
    },
    {
      "metadata": {
        "id": "qIt-FmN7hLLA",
        "colab_type": "code",
        "colab": {}
      },
      "cell_type": "code",
      "source": [
        "import random\n",
        "import math\n",
        "\n",
        "N=10000\n",
        "LISTA_2D=[ (random.randrange(1,N*10), random.randrange(1,N*10)) for _ in range(N)]\n",
        "#print(LISTA_2D)"
      ],
      "execution_count": 0,
      "outputs": []
    },
    {
      "metadata": {
        "id": "G6n5pY1fJ4cX",
        "colab_type": "code",
        "outputId": "83252020-4420-419d-d6e9-3461405f64b7",
        "colab": {
          "base_uri": "https://localhost:8080/",
          "height": 35
        }
      },
      "cell_type": "code",
      "source": [
        "#Calcula la distancia entre A y B\n",
        "#Primero calcula calcula cuendo es una dimensión \n",
        "#el bloque else permite más de una dimensión\n",
        "def distancia(A,B):\n",
        "   if type(A) is int or type(A) is float:\n",
        "      return abs(B-A)\n",
        "   else:\n",
        "      return math.sqrt(sum([  (A[i]-B[i])**2 for i in range(len(A))  ]))\n",
        "\n",
        "#distancia(2,5)\n",
        "#distancia((1,3),(2,5))\n",
        "distancia ((1,3,4), (2,5,6))"
      ],
      "execution_count": 5,
      "outputs": [
        {
          "output_type": "execute_result",
          "data": {
            "text/plain": [
              "3.0"
            ]
          },
          "metadata": {
            "tags": []
          },
          "execution_count": 5
        }
      ]
    },
    {
      "metadata": {
        "id": "PjfkJewGlgRU",
        "colab_type": "text"
      },
      "cell_type": "markdown",
      "source": [
        ""
      ]
    },
    {
      "metadata": {
        "id": "pZNscclpLff7",
        "colab_type": "code",
        "outputId": "7c615e8d-845f-4507-98f2-37fa9327c902",
        "colab": {
          "base_uri": "https://localhost:8080/",
          "height": 35
        }
      },
      "cell_type": "code",
      "source": [
        "#Fuerza Bruta\n",
        "#Bueno para listas pequeñas (ejemplo tamaño 500 y razonable hasta 1,000)\n",
        "def distancia_fuerza_bruta(L):\n",
        "   mejor_distancia = 100000e10\n",
        "   A,B = (),()\n",
        "   for i in range(len(L)):\n",
        "      for j in range(i+1, len(L)):\n",
        "          D=distancia(L[i],L[j])\n",
        "          if D < mejor_distancia:\n",
        "             A,B=L[i],L[j]\n",
        "             mejor_distancia = D\n",
        "            \n",
        "   return [A,B]\n",
        "distancia_fuerza_bruta(LISTA_2D[:1000])"
      ],
      "execution_count": 7,
      "outputs": [
        {
          "output_type": "execute_result",
          "data": {
            "text/plain": [
              "[(93236, 68332), (93213, 68313)]"
            ]
          },
          "metadata": {
            "tags": []
          },
          "execution_count": 7
        }
      ]
    },
    {
      "metadata": {
        "id": "EOpq6o1S8gPG",
        "colab_type": "text"
      },
      "cell_type": "markdown",
      "source": [
        "<b>Se agrega en la función distancia_2p</b><br> Con  la validación de la franja de puntos entre la LISTA_IZQ y la LISTA_DER<br>\n",
        "Una vez que finalizamos con las dos listas, nos interesa la franja de puntos<br>\n",
        "delta=len(L)//2-(distancia min encontrada/2), len(L)//2+distancia min encontrada/2).<br>\n",
        "Para buscar si en esa franja existe una distancia de puntos menor "
      ]
    },
    {
      "metadata": {
        "id": "pxijOgc_uur6",
        "colab_type": "code",
        "outputId": "52e6f62e-ec85-442f-a728-43bdbb8c4de3",
        "colab": {
          "base_uri": "https://localhost:8080/",
          "height": 72
        }
      },
      "cell_type": "code",
      "source": [
        "\n",
        "def distancia_divide_y_venceras(L):\n",
        "   #Si hay pocos por fuerza bruta\n",
        "   if len(L) < 10:\n",
        "      return distancia_fuerza_bruta(L)\n",
        "   #Divide en listas grandes\n",
        "         \n",
        "#   pivote=sum([L[i][0]for i in range(len(L))])/len(L)\n",
        "#   print(pivote)\n",
        "#mejora odenar una sola vez\n",
        "   LISTA_IZQ=sorted(L,key=lambda x: x[0])[:len(L)//2]\n",
        "   LISTA_DER=sorted(L,key=lambda x: x[0])[len(L)//2:]\n",
        "    \n",
        "   PUNTOS_LISTA_IZQ=distancia_divide_y_venceras(LISTA_IZQ)\n",
        "   PUNTOS_LISTA_DER=distancia_divide_y_venceras(LISTA_DER)\n",
        "   \n",
        "   \n",
        "#  print(LISTA_IZQ)\n",
        "#  print(LISTA_DER)\n",
        "   return distancia_fuerza_bruta(PUNTOS_LISTA_IZQ+PUNTOS_LISTA_DER)       \n",
        "\n",
        "@calcular_tiempo\n",
        "def distancia_2p(L):\n",
        "   resultado_1=distancia_divide_y_venceras(L)\n",
        "   punto1=resultado_1[0]\n",
        "   punto2=resultado_1[1]\n",
        "   distancia_1=distancia(punto1,punto2)\n",
        "   delta=int(math.ceil(distancia_1/2))\n",
        "   LISTA_MEDIA=sorted(L,key=lambda x: x[0])[(len(L)//2)-(delta):(len(L)//2)+(delta)]\n",
        "   resultado_2=distancia_divide_y_venceras(LISTA_MEDIA)                                                          \n",
        "   punto1=resultado_2[0]\n",
        "   punto2=resultado_2[1]\n",
        "   distancia_2=distancia(punto1,punto2)\n",
        "   if distancia_2 < distancia_1:\n",
        "      return distancia_2, resultado_2\n",
        "   else:\n",
        "      return distancia_1, resultado_1\n",
        "   \n",
        "SOL=distancia_2p(LISTA_2D[:10000])\n",
        "print(SOL)\n"
      ],
      "execution_count": 8,
      "outputs": [
        {
          "output_type": "stream",
          "text": [
            "\r\n",
            " Tiempo de ejecución para algoritmo: 0.1368238925933837890625000\n",
            "(5.0, [(22535, 38164), (22538, 38168)])\n"
          ],
          "name": "stdout"
        }
      ]
    },
    {
      "metadata": {
        "id": "E7SbEUFWmDQ0",
        "colab_type": "code",
        "outputId": "718e0732-7948-42bd-a77e-6c90d0959bf5",
        "colab": {
          "base_uri": "https://localhost:8080/",
          "height": 147
        }
      },
      "cell_type": "code",
      "source": [
        "#Paseo por el río\n",
        "TARIFAS = [\n",
        "[0,5,4,3,999,999,999],\n",
        "[999,0,999,2,3,999,11],\n",
        "[999,999, 0,1,999,4,10],\n",
        "[999,999,999, 0,5,6,9],\n",
        "[999,999, 999,999,0,999,4],\n",
        "[999,999, 999,999,999,0,3],\n",
        "[999,999,999,999,999,999,0]\n",
        "]\n",
        "def Precios(TARIFAS):\n",
        "   N=len(TARIFAS[0])\n",
        "   PRECIOS=[[9999]*N for i in [9999]*N]\n",
        "   RUTAS = [ [\"\"]*N for i in [9999]*N]\n",
        "   \n",
        "   for i in range(N-1):\n",
        "      for j  in range(i+1, N):\n",
        "          MIN=TARIFAS[i][j]\n",
        "          RUTAS[i][j]=i\n",
        "          \n",
        "          for k in range(i,j):\n",
        "              actual=PRECIOS[i][k] +TARIFAS[k][j]\n",
        "              if actual < MIN:\n",
        "                 MIN=actual\n",
        "                 RUTAS[i][j] = k\n",
        "          PRECIOS[i][j] = MIN\n",
        "   return PRECIOS, RUTAS\n",
        "\n",
        "PRECIOS, RUTAS = Precios(TARIFAS)\n",
        "\n",
        "print(PRECIOS)\n",
        "print()\n",
        "print(RUTAS)\n",
        "\n",
        "def calcular_ruta(RUTA, desde, hasta):\n",
        "  if desde == hasta:\n",
        "    return desde \n",
        "  else:\n",
        "    return str(calcular_ruta(RUTA, desde, RUTA[desde][hasta])) +  ',' + str(RUTA[desde][hasta]) \n",
        "\n",
        "print(\"\\nLa ruta es:\")  \n",
        "#calcular_ruta(RUTAS, 0,1)\n",
        "#calcular_ruta(RUTAS, 0,4)\n",
        "calcular_ruta(RUTAS, 0,6)"
      ],
      "execution_count": 2,
      "outputs": [
        {
          "output_type": "stream",
          "text": [
            "[[9999, 5, 4, 3, 8, 8, 11], [9999, 9999, 999, 2, 3, 8, 7], [9999, 9999, 9999, 1, 6, 4, 7], [9999, 9999, 9999, 9999, 5, 6, 9], [9999, 9999, 9999, 9999, 9999, 999, 4], [9999, 9999, 9999, 9999, 9999, 9999, 3], [9999, 9999, 9999, 9999, 9999, 9999, 9999]]\n",
            "\n",
            "[['', 0, 0, 0, 1, 2, 5], ['', '', 1, 1, 1, 3, 4], ['', '', '', 2, 3, 2, 5], ['', '', '', '', 3, 3, 3], ['', '', '', '', '', 4, 4], ['', '', '', '', '', '', 5], ['', '', '', '', '', '', '']]\n",
            "\n",
            "La ruta es:\n"
          ],
          "name": "stdout"
        },
        {
          "output_type": "execute_result",
          "data": {
            "text/plain": [
              "'0,0,2,5'"
            ]
          },
          "metadata": {
            "tags": []
          },
          "execution_count": 2
        }
      ]
    },
    {
      "metadata": {
        "id": "Tloj0qG12Z0l",
        "colab_type": "code",
        "colab": {}
      },
      "cell_type": "code",
      "source": [
        ""
      ],
      "execution_count": 0,
      "outputs": []
    }
  ]
}
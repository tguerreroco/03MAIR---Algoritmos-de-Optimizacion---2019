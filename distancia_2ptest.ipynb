{
  "nbformat": 4,
  "nbformat_minor": 0,
  "metadata": {
    "colab": {
      "name": "Copia de Copia de distancia_2ptest.ipynb",
      "version": "0.3.2",
      "provenance": [],
      "include_colab_link": true
    },
    "kernelspec": {
      "name": "python3",
      "display_name": "Python 3"
    }
  },
  "cells": [
    {
      "cell_type": "markdown",
      "metadata": {
        "id": "view-in-github",
        "colab_type": "text"
      },
      "source": [
        "<a href=\"https://colab.research.google.com/github/tguerreroco/03MAIR---Algoritmos-de-Optimizacion---2019/blob/master/distancia_2ptest.ipynb\" target=\"_parent\"><img src=\"https://colab.research.google.com/assets/colab-badge.svg\" alt=\"Open In Colab\"/></a>"
      ]
    },
    {
      "metadata": {
        "id": "Nl7RzJf_EGif",
        "colab_type": "code",
        "outputId": "de5fb786-37a1-4af1-a9e7-a82d60c6e831",
        "colab": {
          "base_uri": "https://localhost:8080/",
          "height": 72
        }
      },
      "cell_type": "code",
      "source": [
        "LISTA_1D = [700,3000,50,250,8,90,10000,5000,76,80,34,48]\n",
        "\n",
        "\n",
        "from time import time\n",
        "import random\n",
        "def calcular_tiempo(f):\n",
        "   \n",
        "    def wrapper(*args, **kwargs):        \n",
        "        inicio = time()       \n",
        "        resultado = f(*args, **kwargs)       \n",
        "        tiempo = float(time() - inicio)     \n",
        "        print(\"\\r\\n Tiempo de ejecución para algoritmo: \"+\"{0:.25f}\".format(tiempo))\n",
        "        return resultado\n",
        "    \n",
        "    return wrapper\n",
        "\n",
        "def f_distancia_2p(punto1, punto2):\n",
        "    return abs(punto2 - punto1)\n",
        "\n",
        "@calcular_tiempo\n",
        "def f_d2p_fuerza_bruta(lista):\n",
        "    distancia_minima = f_distancia_2p(lista[0], lista[1])\n",
        "    punto1 = lista[0]\n",
        "    punto2 = lista[1]\n",
        "    len_lista = len(lista)\n",
        "    if len_lista == 2:\n",
        "        return [punto1, punto2, distancia_minima]\n",
        "    for i in range(len_lista-1):\n",
        "        for j in range(i + 1, len_lista):\n",
        "            if i != 0 and j != 1:\n",
        "                distancia = f_distancia_2p(lista[i], lista[j])\n",
        "                if distancia < distancia_minima:  \n",
        "                    distancia_minima = distancia\n",
        "                    punto1, punto2 = lista[i], lista[j]\n",
        "    lista_salida=[distancia_minima, punto1,punto2]\n",
        "    return lista_salida\n",
        "resultado=f_d2p_fuerza_bruta(LISTA_1D)\n",
        "print ('Distancia mínima: '+str(resultado[0])+', puntos '+str(resultado[1])+' y '+str(resultado[2]))"
      ],
      "execution_count": 0,
      "outputs": [
        {
          "output_type": "stream",
          "text": [
            "\r\n",
            " Tiempo de ejecución para algoritmo: 0.0000293254852294921875000\n",
            "Distancia mínima: 2, puntos 50 y 48\n"
          ],
          "name": "stdout"
        }
      ]
    },
    {
      "metadata": {
        "id": "s2TiYxI5_dfV",
        "colab_type": "code",
        "outputId": "8cfd1560-3578-4a84-ce56-3a6dee59e9cc",
        "colab": {
          "base_uri": "https://localhost:8080/",
          "height": 72
        }
      },
      "cell_type": "code",
      "source": [
        "#Ordena Lista \n",
        "#\n",
        "def f_elimina_duplicados(lista):\n",
        "    lista_ordenada=np.sort(lista)\n",
        "    return lista_ordenada        \n",
        "resultado=f_d2p_fuerza_bruta(f_elimina_duplicados(LISTA_1D))\n",
        "print ('Distancia mínima: '+str(resultado[0])+', puntos '+str(resultado[1])+' y '+str(resultado[2]))"
      ],
      "execution_count": 0,
      "outputs": [
        {
          "output_type": "stream",
          "text": [
            "\r\n",
            " Tiempo de ejecución para algoritmo: 0.0002510547637939453125000\n",
            "Distancia mínima: 0, puntos 8 y 8\n"
          ],
          "name": "stdout"
        }
      ]
    },
    {
      "metadata": {
        "id": "ahH-LsC0DYrQ",
        "colab_type": "code",
        "outputId": "d6f2865d-a48f-476b-aa6f-fc2a1e7a2515",
        "colab": {
          "base_uri": "https://localhost:8080/",
          "height": 54
        }
      },
      "cell_type": "code",
      "source": [
        "#Segundo intento aplicar Divide y Vencerás\n",
        "import numpy as np\n",
        "def f_puntos_mas_cercanos(lista,lista_r):  \n",
        "    len_lista = len(lista)  \n",
        "    if len_lista < 3:\n",
        "       punto1 = lista[len(lista)-1]\n",
        "       punto2 = lista[len(lista)-2]\n",
        "       distancia_minima = f_distancia_2p(punto1, punto2)\n",
        "       if distancia_minima < lista_r[0]:\n",
        "          lista_r=(distancia_minima,punto1,punto2)\n",
        "       return lista_r\n",
        "    \n",
        "    punto1 = lista[len(lista)-1]\n",
        "    punto2 = lista[len(lista)-2]\n",
        "    distancia_minima = f_distancia_2p(punto1, punto2)\n",
        "    lista=lista[:-1]\n",
        "    if distancia_minima < lista_r[0]:\n",
        "       lista_r=(distancia_minima,punto1,punto2)\n",
        "    resultado=f_puntos_mas_cercanos(lista,lista_r)\n",
        "    return resultado\n",
        "def f_procesa_lista(lista):\n",
        "    lista_ordenada=np.sort(lista)\n",
        "    print(\"Lista_ordenada\")\n",
        "    print(lista_ordenada)\n",
        "    punto1 = lista_ordenada[len(lista_ordenada)-1]\n",
        "    punto2 = lista_ordenada[len(lista_ordenada)-2]\n",
        "    distancia_minima = f_distancia_2p(punto1, punto2)\n",
        "    lista_ordenada=lista_ordenada[:-1]\n",
        "    lista_r=(distancia_minima,punto1,punto2)\n",
        "    return f_puntos_mas_cercanos(lista_ordenada,lista_r)\n",
        "def f_genera_sublistas(lista,numero):\n",
        "    longitud=len(lista)/float(numero)\n",
        "    ultimo=0.0\n",
        "    sublistas=[]\n",
        "    lista_limites=[]\n",
        "    while ultimo < len(lista):\n",
        "       sublistas.append(lista[int(ultimo):int(ultimo+longitud)])\n",
        "       if ultimo+longitud+1 < len(lista):\n",
        "          lista_limites.append(lista[int(ultimo+longitud-1)])\n",
        "          lista_limites.append(lista[int(ultimo+longitud)])                         \n",
        "       ultimo+=longitud\n",
        "    return sublistas,lista_limites\n",
        "\n",
        "LISTA_1D = [9,11,18,700,3000,50,250,28,90,10000,5000,76,80,34,48,100,110,120,130,140,150,160,170,180,190,191]\n",
        "numero_listas=4\n",
        "\n",
        "#resultado=f_procesa_lista(LISTA_1D)\n",
        "sublistas=(f_genera_sublistas(LISTA_1D,numero_listas))\n",
        "for lista in sublistas:\n",
        "    resultado_tmp=f_procesa_lista(lista)\n",
        "#print ('Distancia mínima: '+str(resultado[0])+', puntos '+str(resultado[1])+' y '+str(resultado[2]))    \n",
        "    \n"
      ],
      "execution_count": 0,
      "outputs": [
        {
          "output_type": "stream",
          "text": [
            "[[9, 11, 18, 700, 3000, 50], [250, 28, 90, 10000, 5000, 76, 80], [34, 48, 100, 110, 120, 130], [140, 150, 160, 170, 180, 190, 191]]\n",
            "[50, 250, 80, 34, 130, 140]\n"
          ],
          "name": "stdout"
        }
      ]
    },
    {
      "metadata": {
        "id": "etIizg_BkYm2",
        "colab_type": "text"
      },
      "cell_type": "markdown",
      "source": [
        ""
      ]
    },
    {
      "metadata": {
        "id": "Ix2t6ArXjGmg",
        "colab_type": "code",
        "colab": {}
      },
      "cell_type": "code",
      "source": [
        ""
      ],
      "execution_count": 0,
      "outputs": []
    },
    {
      "metadata": {
        "id": "YsFio6TmBOjm",
        "colab_type": "code",
        "colab": {}
      },
      "cell_type": "code",
      "source": [
        "#Segundo intento aplicar divide y venceras\n"
      ],
      "execution_count": 0,
      "outputs": []
    }
  ]
}
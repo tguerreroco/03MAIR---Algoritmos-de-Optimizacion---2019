{
  "nbformat": 4,
  "nbformat_minor": 0,
  "metadata": {
    "colab": {
      "name": "Untitled11.ipynb",
      "version": "0.3.2",
      "provenance": [],
      "include_colab_link": true
    },
    "kernelspec": {
      "name": "python3",
      "display_name": "Python 3"
    }
  },
  "cells": [
    {
      "cell_type": "markdown",
      "metadata": {
        "id": "view-in-github",
        "colab_type": "text"
      },
      "source": [
        "<a href=\"https://colab.research.google.com/github/tguerreroco/03MAIR---Algoritmos-de-Optimizacion---2019/blob/master/distancia_2ptest.ipynb\" target=\"_parent\"><img src=\"https://colab.research.google.com/assets/colab-badge.svg\" alt=\"Open In Colab\"/></a>"
      ]
    },
    {
      "metadata": {
        "id": "Nl7RzJf_EGif",
        "colab_type": "code",
        "colab": {
          "base_uri": "https://localhost:8080/",
          "height": 72
        },
        "outputId": "eb4bee71-9f79-4589-fa2a-46cb529b6fc3"
      },
      "cell_type": "code",
      "source": [
        "LISTA_1D = [700,3000,50,250,8,90,10000,5000,76,80,34,48]\n",
        "\n",
        "\n",
        "from time import time\n",
        "import random\n",
        "def calcular_tiempo(f):\n",
        "   \n",
        "    def wrapper(*args, **kwargs):        \n",
        "        inicio = time()       \n",
        "        resultado = f(*args, **kwargs)       \n",
        "        tiempo = float(time() - inicio)     \n",
        "        print(\"\\r\\n Tiempo de ejecución para algoritmo: \"+\"{0:.25f}\".format(tiempo))\n",
        "        return resultado\n",
        "    \n",
        "    return wrapper\n",
        "\n",
        "def f_distancia_2p(punto1, punto2):\n",
        "    return abs(punto2 - punto1)\n",
        "\n",
        "@calcular_tiempo\n",
        "def f_d2p_fuerza_bruta(lista):\n",
        "    distancia_minima = f_distancia_2p(lista[0], lista[1])\n",
        "    punto1 = lista[0]\n",
        "    punto2 = lista[1]\n",
        "    len_lista = len(lista)\n",
        "    if len_lista == 2:\n",
        "        return [punto1, punto2, distancia_minima]\n",
        "    for i in range(len_lista-1):\n",
        "        for j in range(i + 1, len_lista):\n",
        "            if i != 0 and j != 1:\n",
        "                distancia = f_distancia_2p(lista[i], lista[j])\n",
        "                if distancia < distancia_minima:  \n",
        "                    distancia_minima = distancia\n",
        "                    punto1, punto2 = lista[i], lista[j]\n",
        "    lista_salida=[distancia_minima, punto1,punto2]\n",
        "    return lista_salida\n",
        "resultado=f_d2p_fuerza_bruta(LISTA_1D)\n",
        "print ('Distancia mínima: '+str(resultado[0])+', puntos '+str(resultado[1])+' y '+str(resultado[2]))"
      ],
      "execution_count": 15,
      "outputs": [
        {
          "output_type": "stream",
          "text": [
            "\r\n",
            " Tiempo de ejecución para algoritmo: 0.0000293254852294921875000\n",
            "Distancia mínima: 2, puntos 50 y 48\n"
          ],
          "name": "stdout"
        }
      ]
    },
    {
      "metadata": {
        "id": "s2TiYxI5_dfV",
        "colab_type": "code",
        "colab": {
          "base_uri": "https://localhost:8080/",
          "height": 72
        },
        "outputId": "64118007-1110-4202-f0bf-9292e08471c9"
      },
      "cell_type": "code",
      "source": [
        "#Ordena Lista y Elimina duplicados\n",
        "#Elimina duplicados de la Lista\n",
        "def f_elimina_duplicados(lista):\n",
        "    lista_ordenada=np.sort(lista)\n",
        "    lista_sin_duplicados = list(set(lista_ordenada))\n",
        "    return lista_sin_duplicados        \n",
        "resultado=f_d2p_fuerza_bruta(f_elimina_duplicados(LISTA_1D))\n",
        "print ('Distancia mínima: '+str(resultado[0])+', puntos '+str(resultado[1])+' y '+str(resultado[2]))"
      ],
      "execution_count": 24,
      "outputs": [
        {
          "output_type": "stream",
          "text": [
            "\r\n",
            " Tiempo de ejecución para algoritmo: 0.0000946521759033203125000\n",
            "Distancia mínima: 2, puntos 48 y 50\n"
          ],
          "name": "stdout"
        }
      ]
    },
    {
      "metadata": {
        "id": "ahH-LsC0DYrQ",
        "colab_type": "code",
        "colab": {
          "base_uri": "https://localhost:8080/",
          "height": 164
        },
        "outputId": "b4b17e73-19e2-4400-839c-ff5a9ff3fc6f"
      },
      "cell_type": "code",
      "source": [
        "#Segundo intento aplicar Divide y Vencerás\n",
        "def f_puntos_mas_cercanos(lista,lista_r):\n",
        "    len_lista = len(lista)  \n",
        "    if len_lista < 3:\n",
        "       punto1 = lista[len(lista)-1]\n",
        "       punto2 = lista[len(lista)-2]\n",
        "       distancia_minima = f_distancia_2p(punto1, punto2)\n",
        "       if distancia_minima < lista_r[0]:\n",
        "          lista_r=(distancia_minima,punto1,punto2)\n",
        "       return lista_r\n",
        "    \n",
        "    print(lista)\n",
        "    print ('Distancia mínima: '+str(lista_r[0])+', puntos '+str(lista_r[1])+' y '+str(lista_r[2]))  \n",
        "    punto1 = lista[len(lista)-1]\n",
        "    punto2 = lista[len(lista)-2]\n",
        "    distancia_minima = f_distancia_2p(punto1, punto2)\n",
        "    lista=lista[:-1]\n",
        "    if distancia_minima < lista_r[0]:\n",
        "       lista_r=(distancia_minima,punto1,punto2)\n",
        "       resultado=f_puntos_mas_cercanos(lista,lista_r)\n",
        "    return lista_r       \n",
        "def f_inicio(lista):\n",
        "    #lista_ordenada=f_elimina_duplicados(lista)\n",
        "    lista_ordenada=np.sort(lista)\n",
        "    print(\"Lista_ordenada\")\n",
        "    print(lista_ordenada)\n",
        "    punto1 = lista_ordenada[len(lista_ordenada)-1]\n",
        "    punto2 = lista_ordenada[len(lista_ordenada)-2]\n",
        "    distancia_minima = f_distancia_2p(punto1, punto2)\n",
        "    lista_ordenada=lista_ordenada[:-1]\n",
        "    lista_r=(distancia_minima,punto1,punto2)\n",
        "    return f_puntos_mas_cercanos(lista_ordenada,lista_r)\n",
        "    \n",
        "LISTA_1D = [8,8,700,3000,50,250,8,90,10000,5000,76,80,34,48]\n",
        "resultado=f_inicio(LISTA_1D)\n",
        "print(resultado)\n",
        "#print ('Distancia mínima: '+str(resultado[0])+', puntos '+str(resultado[1])+' y '+str(resultado[2]))    \n",
        "    \n"
      ],
      "execution_count": 51,
      "outputs": [
        {
          "output_type": "stream",
          "text": [
            "Lista_ordenada\n",
            "[    8     8     8    34    48    50    76    80    90   250   700  3000\n",
            "  5000 10000]\n",
            "[   8    8    8   34   48   50   76   80   90  250  700 3000 5000]\n",
            "Distancia mínima: 5000, puntos 10000 y 5000\n",
            "[   8    8    8   34   48   50   76   80   90  250  700 3000]\n",
            "Distancia mínima: 2000, puntos 5000 y 3000\n",
            "(2000, 5000, 3000)\n"
          ],
          "name": "stdout"
        }
      ]
    },
    {
      "metadata": {
        "id": "YsFio6TmBOjm",
        "colab_type": "code",
        "colab": {}
      },
      "cell_type": "code",
      "source": [
        "#Segundo intento aplicar divide y venceras\n"
      ],
      "execution_count": 0,
      "outputs": []
    }
  ]
}